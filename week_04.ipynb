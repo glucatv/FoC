{
 "cells": [
  {
   "cell_type": "markdown",
   "id": "20b973ef",
   "metadata": {},
   "source": [
    "# Exercises for the weekend - solutions\n",
    "\n",
    "**Exercise 1**. Write a function, named `is_float()`, that does a similar task to `is_int()` but with floats. "
   ]
  },
  {
   "cell_type": "code",
   "execution_count": 1,
   "id": "2a017ee0",
   "metadata": {},
   "outputs": [
    {
     "name": "stdout",
     "output_type": "stream",
     "text": [
      "3.1415\n"
     ]
    }
   ],
   "source": [
    "def is_float( a ):\n",
    "    '''\n",
    "    Input: a string a\n",
    "    Returns: True if and only if a can be converted by float()\n",
    "    '''\n",
    "    \n",
    "    a_dot = False # True if we already met a dot in the string\n",
    "    \n",
    "    for x in a:\n",
    "        # if x is not a digit, return False\n",
    "        if x == '.': \n",
    "            if a_dot:\n",
    "                return False\n",
    "            else:\n",
    "                a_dot = True            \n",
    "        elif x < '0' or x > '9':\n",
    "            return False\n",
    "        \n",
    "    return True\n",
    "        \n",
    "\n",
    "\n",
    "a = '3.1415'\n",
    "\n",
    "if is_float(a):\n",
    "    a = float(a)\n",
    "    print(a)\n",
    "else:\n",
    "    print('the string', a, ' cannot be converted in float')\n",
    "    "
   ]
  },
  {
   "cell_type": "markdown",
   "id": "2f7478c4",
   "metadata": {},
   "source": [
    "**Exercise 2**: Write a function called `count_words()` that returns the number of words in a string. A word is substring surrounded by at least a space.\n",
    "\n",
    "\n",
    "**Solution**: Idea, count the number of times that a space character is followed by a non-space character."
   ]
  },
  {
   "cell_type": "code",
   "execution_count": 2,
   "id": "f950c219",
   "metadata": {},
   "outputs": [
    {
     "name": "stdout",
     "output_type": "stream",
     "text": [
      "7\n",
      "0\n"
     ]
    }
   ],
   "source": [
    "def count_words( a ):\n",
    "    '''\n",
    "    Input: a string\n",
    "    Output: Number of words in a\n",
    "    '''\n",
    "    \n",
    "    count = 0\n",
    "    \n",
    "    i = 0\n",
    "    \n",
    "    while i < len(a)-1 :\n",
    "        if a[i] == ' ' and  a[i+1] != ' ':\n",
    "            count += 1\n",
    "        i += 1\n",
    "        \n",
    "    \n",
    "    # if a[0] != ' ' and len(a) > 0:  is wrong\n",
    "    if len(a) > 0 and a[0] != ' ':\n",
    "        count += 1\n",
    "        \n",
    "    return count\n",
    "    \n",
    "\n",
    "a = '       this is  a string with six words'\n",
    "b = ''    # empty string\n",
    "print( count_words( a ) )\n",
    "print( count_words( b ) )"
   ]
  },
  {
   "cell_type": "markdown",
   "id": "9f53ce88-825a-42f6-932c-9d40339efecc",
   "metadata": {},
   "source": [
    "## Tuples\n",
    "\n",
    "The *indexing*, *slicing*, *concatenation* and *repetition* operators and the `len()` function used with strings can be also used with tuples in the same way. Like strings, tuples are immutable."
   ]
  },
  {
   "cell_type": "code",
   "execution_count": 4,
   "id": "7a32a4a0-d7f7-4d0e-9549-2fade0ba8a17",
   "metadata": {},
   "outputs": [
    {
     "name": "stdout",
     "output_type": "stream",
     "text": [
      "3\n",
      "8\n",
      "1 <class 'int'>\n",
      "3 <class 'int'>\n",
      "4.9 <class 'float'>\n",
      "3 <class 'int'>\n",
      "4 <class 'int'>\n",
      "python <class 'str'>\n",
      "(0, 2) <class 'tuple'>\n",
      "a string <class 'str'>\n",
      "(4.9, 3, 4)\n",
      "True\n",
      "False\n"
     ]
    }
   ],
   "source": [
    "t = ( 1, 3, 4.9, 3, 4, 'python', (0, 2), 'a string' )\n",
    "\n",
    "print(t[3])\n",
    "print(len(t))\n",
    "\n",
    "for x in t:\n",
    "    print(x, type(x))\n",
    "    \n",
    "print( t[2:5] ) # a new tuple\n",
    "\n",
    "# t[4] = 'wrong!' the tuples are immutable\n",
    "\n",
    "print( 4 in t)\n",
    "print( '4' in t)\n"
   ]
  },
  {
   "cell_type": "markdown",
   "id": "d4baed9a",
   "metadata": {},
   "source": [
    "**Problem**:  Write a function called `mean_val` that takes in input a tuple `t` and returns the mean value of al numbers in `t`."
   ]
  },
  {
   "cell_type": "code",
   "execution_count": 5,
   "id": "ceb72bef",
   "metadata": {},
   "outputs": [
    {
     "name": "stdout",
     "output_type": "stream",
     "text": [
      "3.18\n"
     ]
    }
   ],
   "source": [
    "def mean_value( t ):\n",
    "    '''\n",
    "    Parameters\n",
    "    ----------\n",
    "    t : a tuple\n",
    "\n",
    "    Returns\n",
    "    ------\n",
    "    The mean value of all the numbers in t or None if there are no numbers in t\n",
    "\n",
    "    '''\n",
    "    \n",
    "    total_sum, count_numbers = 0, 0\n",
    "    \n",
    "    for x in t:\n",
    "        if type(x) in (type(0), type(0.0)):\n",
    "            total_sum += x\n",
    "            count_numbers += 1\n",
    "        \n",
    "    # conditional assignment\n",
    "    r = None if count_numbers == 0 else total_sum/count_numbers\n",
    "    \n",
    "    '''\n",
    "    this is the same of...\n",
    "    \n",
    "    if count_numbers == 0:\n",
    "        r = None\n",
    "    else:\n",
    "        r = total_sum/count_numbers\n",
    "    '''\n",
    "    \n",
    "    return r\n",
    "\n",
    "\n",
    "t0 = ( 1, 3, 4.9, 3, 4, 'python', (0, 2), 'a string' )\n",
    "t1 = ('this is not a number', ) # tuple with a single item, a comma is necessary\n",
    "print( mean_value( t0 ) )"
   ]
  },
  {
   "cell_type": "markdown",
   "id": "7e2116fe",
   "metadata": {},
   "source": [
    "> ### Python note\n",
    ">\n",
    "> The expression in line 17 replaces the previous commented `if...else` statement. It is a **conditional assignment**. Its syntax is\n",
    ">\n",
    ">```python\n",
    ">    a = val0 if cond else val1\n",
    ">```\n",
    ">\n",
    ">The value of the expression on the right of the assignment is `val0` if `cond` is `True`, otherwise it is >`val1`."
   ]
  },
  {
   "cell_type": "markdown",
   "id": "b5cd1f00",
   "metadata": {},
   "source": [
    "**Problem**: Write a function named `longest_str` that takes in input a tuple of strings and returns the longest one and its length."
   ]
  },
  {
   "cell_type": "code",
   "execution_count": 6,
   "id": "450e8944",
   "metadata": {},
   "outputs": [
    {
     "name": "stdout",
     "output_type": "stream",
     "text": [
      "three\n"
     ]
    }
   ],
   "source": [
    "def longest_string( t ):\n",
    "    '''\n",
    "    Parameters\n",
    "    ----------\n",
    "    t : tuple of strings\n",
    "\n",
    "    Returns\n",
    "    -------\n",
    "    the longest string in t, None if t is empty\n",
    "\n",
    "    '''\n",
    "    longest_string = None\n",
    "    \n",
    "    for x in t:\n",
    "        if longest_string == None or len(x) > len(longest_string):\n",
    "            longest_string = x\n",
    "    \n",
    "    return longest_string\n",
    "\n",
    "t1 = ('one', 'zero', 'two', 'three', 'four')\n",
    "t0 = () # empty tuple\n",
    "print( longest_string( t1 )  )"
   ]
  },
  {
   "cell_type": "markdown",
   "id": "3f777985",
   "metadata": {},
   "source": [
    "## `min` and `max` functions"
   ]
  },
  {
   "cell_type": "code",
   "execution_count": 8,
   "id": "5db2b6fb",
   "metadata": {},
   "outputs": [
    {
     "name": "stdout",
     "output_type": "stream",
     "text": [
      "3\n",
      "4 1\n",
      "zero\n"
     ]
    }
   ],
   "source": [
    "print( max(2, 3, 1) )\n",
    "t0 = (2,1,2,4,4,2,1)\n",
    "print( max(t0), min(t0) )\n",
    "\n",
    "t1 = ('one', 'zero', 'two', 'three', 'four', 'x')\n",
    "print(max(t1))"
   ]
  },
  {
   "cell_type": "markdown",
   "id": "2cebbde1",
   "metadata": {},
   "source": [
    "With the optional parameter `key` it is possible to customize the objective function. The `key` parameter must be a function that defines a value for each items in the sequence. The `max` (resp., `min`)  function will return the item that maximizes (resp., minimizes) the values of the `key` function."
   ]
  },
  {
   "cell_type": "code",
   "execution_count": 10,
   "id": "5481601c",
   "metadata": {},
   "outputs": [
    {
     "name": "stdout",
     "output_type": "stream",
     "text": [
      "three\n",
      "x\n"
     ]
    }
   ],
   "source": [
    "print( max(t1, key=len) )\n",
    "print( min(t1, key=len) )"
   ]
  },
  {
   "cell_type": "code",
   "execution_count": null,
   "id": "8f98bd00",
   "metadata": {},
   "outputs": [],
   "source": []
  }
 ],
 "metadata": {
  "kernelspec": {
   "display_name": "Python 3 (ipykernel)",
   "language": "python",
   "name": "python3"
  },
  "language_info": {
   "codemirror_mode": {
    "name": "ipython",
    "version": 3
   },
   "file_extension": ".py",
   "mimetype": "text/x-python",
   "name": "python",
   "nbconvert_exporter": "python",
   "pygments_lexer": "ipython3",
   "version": "3.10.12"
  }
 },
 "nbformat": 4,
 "nbformat_minor": 5
}
