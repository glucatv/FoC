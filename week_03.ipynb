{
 "cells": [
  {
   "cell_type": "markdown",
   "id": "826eddad-79a7-4819-a9a0-341cffd7e4ea",
   "metadata": {},
   "source": [
    "## Functions\n",
    "\n",
    "Subprograms that solve specific tasks, are defined following the syntax\n",
    "\n",
    "```python\n",
    "def f(x, y, ...): # x, y, ... are valiables, formal parameters\n",
    "    # code of the function\n",
    "    # that uses the formal parameters\n",
    "    # to compute a_value\n",
    "    return a_value   # defines the value (output) of the funcion"
   ]
  },
  {
   "cell_type": "code",
   "execution_count": 1,
   "id": "41a72480-b1ac-46ea-8a81-59f6f7dc151d",
   "metadata": {},
   "outputs": [],
   "source": [
    "def f(a, b, c): # formal parameters\n",
    "    z = a+b+c # z but also a, b, c are local variables\n",
    "    return z"
   ]
  },
  {
   "cell_type": "markdown",
   "id": "807b2935-9ade-4eb9-a433-cb6ffd0a9d40",
   "metadata": {},
   "source": [
    "### Function invocation"
   ]
  },
  {
   "cell_type": "code",
   "execution_count": 2,
   "id": "5f1ee0ad-f1b0-4360-a26c-c5f0ede8ab63",
   "metadata": {},
   "outputs": [
    {
     "name": "stdout",
     "output_type": "stream",
     "text": [
      "6\n"
     ]
    }
   ],
   "source": [
    "m = f (1,2,3) # 1, 2, 3 actual parameters that will be assigned to the formal parameters a, b, and\n",
    "\n",
    "print( m )"
   ]
  },
  {
   "cell_type": "markdown",
   "id": "e9f6afd3-e9a3-41df-bc30-4938f794d41e",
   "metadata": {},
   "source": [
    "but also.."
   ]
  },
  {
   "cell_type": "code",
   "execution_count": 4,
   "id": "35c65a6a-44a5-4adb-bf13-20a6ae1202b3",
   "metadata": {},
   "outputs": [
    {
     "name": "stdout",
     "output_type": "stream",
     "text": [
      "Python function\n"
     ]
    }
   ],
   "source": [
    "print( f('Python', ' ', 'function') )"
   ]
  },
  {
   "cell_type": "markdown",
   "id": "230e074e-4727-4767-95c7-1b18007d4fa8",
   "metadata": {},
   "source": [
    "**Exercise**: write a function, called `is_int()` that takes in input a string and returns `True` if it can be converted in `int` by the `int()` function; it must return `False` otherwise. "
   ]
  },
  {
   "cell_type": "code",
   "execution_count": 21,
   "id": "10d50092-fe6b-46c8-b443-5b1a67c3f492",
   "metadata": {},
   "outputs": [],
   "source": [
    "def is_int(a):\n",
    "    '''\n",
    "    #####This is the docstring###   try help(is_int)\n",
    "    \n",
    "    input: a a string\n",
    "    return: True if and only if a can be converted into\n",
    "        an int\n",
    "    '''\n",
    "    for x in a:\n",
    "        if x < '0' or x > '9':\n",
    "            return False\n",
    "    \n",
    "    return True"
   ]
  },
  {
   "cell_type": "code",
   "execution_count": 6,
   "id": "10dbe7c4-70d0-4c39-a74d-3e43e8e69b4e",
   "metadata": {},
   "outputs": [
    {
     "name": "stdin",
     "output_type": "stream",
     "text": [
      "Type an interger: 123\n"
     ]
    },
    {
     "name": "stdout",
     "output_type": "stream",
     "text": [
      "123\n"
     ]
    }
   ],
   "source": [
    "a = input('Type an interger:')\n",
    "\n",
    "if is_int(a):\n",
    "    n = int(a)\n",
    "    print(n)\n",
    "else:\n",
    "    print(a, 'is not an integer')"
   ]
  },
  {
   "cell_type": "markdown",
   "id": "5ec35236-454f-41a3-9682-5e5d904a0353",
   "metadata": {},
   "source": [
    "**Problem**: Convert the square root program (week_01) into a function called `sq_root()` that takes `x` and `eps` as inputs and returns an approximation (guided by `eps`) to the square root of `x`.\n",
    "\n",
    "```python\n",
    "x = 20\n",
    "eps = 0.00000000000000000000000001\n",
    "\n",
    "g = x/3\n",
    "counter = 0\n",
    "\n",
    "while abs(g*g - x) >  eps and counter < 1000:\n",
    "    g = 0.5*(g + x/g)\n",
    "    counter += 1\n",
    "    \n",
    "print(g)\n",
    "```\n"
   ]
  },
  {
   "cell_type": "code",
   "execution_count": 4,
   "id": "21a4af05-73ba-4189-bd5b-cd5a02344f0f",
   "metadata": {},
   "outputs": [
    {
     "name": "stdout",
     "output_type": "stream",
     "text": [
      "1.4142342859400734\n",
      "1.4218903638151426\n"
     ]
    }
   ],
   "source": [
    "def sq_root( x, eps  ):\n",
    "    g = x/4\n",
    "    counter = 0\n",
    "    \n",
    "    while abs(g*g - x) > eps and counter < 1000:\n",
    "        g = (g+x/g)/2\n",
    "        counter += 1\n",
    "        \n",
    "    return g\n",
    "\n",
    "print( sq_root( 2, 0.0001 ) )\n",
    "y = sq_root( 2, 0.1 )\n",
    "print(y)"
   ]
  },
  {
   "cell_type": "markdown",
   "id": "77c1beea-b75a-4aeb-a2d5-9bb07dde848b",
   "metadata": {},
   "source": [
    "### Arguments by position or by name\n",
    "\n",
    "Consider the example: parameter `eps` is defined with a default value. We can run the function with witout a second actual parameter, in this case the value for `eps` will be the default one."
   ]
  },
  {
   "cell_type": "code",
   "execution_count": 5,
   "id": "4c8ca72a-8545-44f2-ac93-3489b3d7e915",
   "metadata": {},
   "outputs": [
    {
     "name": "stdout",
     "output_type": "stream",
     "text": [
      "1.4142342859400734\n",
      "1.4218903638151426\n",
      "1.4218903638151426\n",
      "1.4218903638151426\n"
     ]
    }
   ],
   "source": [
    "def sq_root( x, eps = 0.001  ):\n",
    "    g = x/4\n",
    "    counter = 0\n",
    "    \n",
    "    while abs(g*g - x) > eps and counter < 1000:\n",
    "        counter += 1 \n",
    "        g = (g+x/g)/2\n",
    "        \n",
    "    return g\n",
    "\n",
    "print(sq_root(2))\n",
    "print(sq_root(2, 0.1))   # value for x is 2, value for eps is 0.1 (the position decides)\n",
    "print(sq_root(2, eps = 0.1)) # the value for eps is by name\n",
    "print(sq_root(eps = 0.1, x = 2)) # both parametes are assigned by names, the position doesn't matter\n"
   ]
  },
  {
   "cell_type": "markdown",
   "id": "38f33ff2-1469-4c73-9a7e-2c62a7c255da",
   "metadata": {},
   "source": [
    "## Stack frames, function environment, local variables and formal parameters.\n",
    "\n",
    "**Problem**: Write a function that swap the cases of an input string (all the lowercase must be tranformed in uppercase and viceversa)."
   ]
  },
  {
   "cell_type": "code",
   "execution_count": 9,
   "id": "e37f09a9-a444-4239-ac78-7c6b2b6a08b1",
   "metadata": {},
   "outputs": [
    {
     "name": "stdout",
     "output_type": "stream",
     "text": [
      "PROGrAmmING IN pYtHOn\n"
     ]
    }
   ],
   "source": [
    "def swap_case( c ):\n",
    "    '''\n",
    "    input: c a character\n",
    "    output: if c is a uppercase letter, returns the lowercase versio and viceversa\n",
    "        if c is not a letter, returns None\n",
    "    '''\n",
    "    if c >= 'a' and c <= 'z':\n",
    "        return chr( ord('A') + ord(c)-ord('a') )\n",
    "    elif c >= 'A' and c <= 'Z':\n",
    "        return chr( ord('a') + ord(c)-ord('A') )\n",
    "    else:\n",
    "        return None\n",
    "\n",
    "def swap_cases( a ):\n",
    "    '''\n",
    "    input a: a string\n",
    "    return: invert tha cases of a in a new string, it returns this string\n",
    "    '''\n",
    "    b = ''\n",
    "    for x in a:\n",
    "        y = swap_case( x )\n",
    "        if y != None:\n",
    "            b += y\n",
    "        else:\n",
    "            b += x\n",
    "    return b\n",
    "\n",
    "# main program\n",
    "a = 'progRaMMing in PyThoN'\n",
    "c = swap_cases(a)\n",
    "print(c)"
   ]
  },
  {
   "cell_type": "markdown",
   "id": "70c37d25-4d6a-40d7-b367-9c0390ee8a03",
   "metadata": {},
   "source": [
    "The `swap_cases` function uses the function `swap_case` that translate the input symbol in the corresponding uppercase or lowercase.\n",
    "\n",
    "Run the previous code on [Python Tutor](https://pythontutor.com/).\n",
    "\n",
    "The variables defined within functions (including the names of the parameters, the formal parameters) are local; their visibility is bound to the function frame. Let's assume function `f` calls another function `g`. Function `f` pauses, waiting for the output of `g`. When function `g` ends, its frame is removed from memory (the stack frames), and its return value is passed back to `f`. Then, the frame of `f` is reactivated, and it resumes execution from the next instruction after the call to `g`.\n",
    "\n",
    "The variable `a` is **global**. It is visible inside the functions but `swap_cases` because there, the name `a` is used for a local variable.\n",
    "\n",
    "**Problem**: Find the most common symbol in a string and the number of its occurrences."
   ]
  },
  {
   "cell_type": "code",
   "execution_count": 10,
   "id": "8706ef36-cddb-449a-af27-9daf27c52d78",
   "metadata": {},
   "outputs": [
    {
     "name": "stdout",
     "output_type": "stream",
     "text": [
      "('n', 3)\n",
      "<class 'tuple'>\n"
     ]
    }
   ],
   "source": [
    "def most_frequent_char( a ):\n",
    "    '''\n",
    "    Input a :  a string\n",
    "    Return: the most freq. char in a and the number of its occurrencies\n",
    "    '''\n",
    "    \n",
    "    msc, msc_o = None, None\n",
    "    \n",
    "    for x in a:\n",
    "        # counts x in a\n",
    "        occ_x = 0\n",
    "        for y in a:\n",
    "            if x == y:\n",
    "                occ_x += 1\n",
    "        \n",
    "        if msc_o == None or occ_x > msc_o:\n",
    "            msc, msc_o = x, occ_x\n",
    "    \n",
    "    return msc, msc_o\n",
    "    \n",
    "t = most_frequent_char('programming in python')\n",
    "\n",
    "print(t)\n",
    "\n",
    "print(type(t))\n",
    "    "
   ]
  },
  {
   "cell_type": "markdown",
   "id": "77099dfc-7487-49ca-bcc6-d82ef18c39e9",
   "metadata": {},
   "source": [
    "The function returns a `tuple`, that is a sequences of objects."
   ]
  },
  {
   "cell_type": "markdown",
   "id": "7cbb6d14-8001-46be-a752-a40ad19e7b08",
   "metadata": {},
   "source": [
    "# Exercises for the weekend\n",
    "\n",
    "1. Write a function, named `is_float()`, that does a similar task to `is_int()` but with floats. \n",
    "\n",
    "3. Write a function called `count_words()` that returns the number of words in a string. A word is substring surrounded by at least a space. Example\n",
    "\n",
    "    ```python\n",
    "    count_words('this is a string with six words')\n",
    "    ```\n",
    "    returns `6`"
   ]
  },
  {
   "cell_type": "code",
   "execution_count": null,
   "id": "31bee0ed-d4d9-41a6-b304-0d829b796c8b",
   "metadata": {},
   "outputs": [],
   "source": []
  }
 ],
 "metadata": {
  "kernelspec": {
   "display_name": "Python 3 (ipykernel)",
   "language": "python",
   "name": "python3"
  },
  "language_info": {
   "codemirror_mode": {
    "name": "ipython",
    "version": 3
   },
   "file_extension": ".py",
   "mimetype": "text/x-python",
   "name": "python",
   "nbconvert_exporter": "python",
   "pygments_lexer": "ipython3",
   "version": "3.11.5"
  }
 },
 "nbformat": 4,
 "nbformat_minor": 5
}
