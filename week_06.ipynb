{
 "cells": [
  {
   "cell_type": "markdown",
   "id": "dc74ee71",
   "metadata": {},
   "source": [
    "## Aliasing and cloning"
   ]
  },
  {
   "cell_type": "code",
   "execution_count": 10,
   "id": "69eb71b0",
   "metadata": {},
   "outputs": [
    {
     "name": "stdout",
     "output_type": "stream",
     "text": [
      "c-> [5, 3, 1, 9, 0, 2, 5, 5, 2, 1, 3, 6]\n",
      "c-> [5, 3, 1, 9, 'a string', 2, 5, 5, 2, 1, 3, 6]\n",
      "a-> [5, 3, 1, 9, 'a string', 2, 5, 5, 2, 1, 3, 6]\n",
      "a-> [3, 1, 9, 'a string', 2, 5, 5, 2, 1, 3, 6]\n",
      "c-> [3, 1, 9, 'a string', 2, 5, 5, 2, 1, 3, 6]\n"
     ]
    }
   ],
   "source": [
    "a = [5, 3, 1, 9, 0, 2, 5, 5, 2, 1, 3, 6]\n",
    "\n",
    "c = a  # alias \n",
    "\n",
    "print('c->', c)\n",
    "c[4] = 'a string'\n",
    "print('c->', c)\n",
    "print('a->', a)\n",
    "del(a[0])\n",
    "print('a->', a)\n",
    "print('c->', c)"
   ]
  },
  {
   "cell_type": "markdown",
   "id": "6e0f5f3b",
   "metadata": {},
   "source": [
    "```python\n",
    "c = a\n",
    "```\n",
    "\n",
    "is not a copy but an *alias*, it introduces an alternative name for the list named `a`. This list can be modified using either the variable `a` or `c`.\n",
    "\n",
    "Consider the function that removes from a list `a` all items equal `k`."
   ]
  },
  {
   "cell_type": "code",
   "execution_count": 11,
   "id": "2cc9b0fd",
   "metadata": {},
   "outputs": [
    {
     "name": "stdout",
     "output_type": "stream",
     "text": [
      "b-> [3, 1, 9, 0, 2, 2, 1, 3, 6]\n",
      "a-> [3, 1, 9, 0, 2, 2, 1, 3, 6]\n"
     ]
    }
   ],
   "source": [
    "def remove_all(a, k):\n",
    "    '''\n",
    "    Input: a is  list, k an object\n",
    "    Result: remove all the items equal k from a\n",
    "    '''\n",
    "    \n",
    "    i = 0\n",
    "    n = len(a)\n",
    "    \n",
    "    while i < n:\n",
    "        if a[i] == k:\n",
    "            del(a[i])\n",
    "            n -= 1\n",
    "        else:\n",
    "            i += 1\n",
    "\n",
    "a = [1,5,5,1]\n",
    "\n",
    "remove_all(a, 5) # Modifies the original object (list)\n",
    "\n",
    "print(a)"
   ]
  },
  {
   "cell_type": "markdown",
   "id": "3ce496d0",
   "metadata": {},
   "source": [
    "The local variable `a` of the function takes an alias of list `a`, so the function modifies the original object.\n",
    "\n",
    "If we need a copy of the list (a clone) we can use the slicing that creates a new list."
   ]
  },
  {
   "cell_type": "code",
   "execution_count": 12,
   "id": "8a2a3660",
   "metadata": {},
   "outputs": [
    {
     "name": "stdout",
     "output_type": "stream",
     "text": [
      "b-> [1, 9, 0, 2, 5, 5, 2, 1]\n",
      "a-> ['zero', 3, 1, 9, 0, 2, 5, 5, 2, 1, 3, 6]\n",
      "b-> [5, 3, 1, 9, 0, 2, 5, 5, 2, 1, 3, 6]\n"
     ]
    }
   ],
   "source": [
    "a = [5, 3, 1, 9, 0, 2, 5, 5, 2, 1, 3, 6]\n",
    "b = a[2:10]\n",
    "print('b->',b)\n",
    "\n",
    "b = a[:]  # b is a clone of a\n",
    "a[0] = 'zero'\n",
    "print('a->',a)\n",
    "print('b->',b)"
   ]
  },
  {
   "cell_type": "code",
   "execution_count": 13,
   "id": "6fbeae5a",
   "metadata": {},
   "outputs": [
    {
     "name": "stdout",
     "output_type": "stream",
     "text": [
      "a-> [5, 3, 1, 9, 0, 2, 5, 5, 2, 1, 3, 6]\n",
      "b-> [3, 1, 9, 0, 2, 2, 1, 3, 6]\n"
     ]
    }
   ],
   "source": [
    "a = [5, 3, 1, 9, 0, 2, 5, 5, 2, 1, 3, 6]\n",
    "\n",
    "b = del_all(a[:], 5) # we pass to the function a clone of a\n",
    "\n",
    "print('a->', a)\n",
    "print('b->', b)"
   ]
  },
  {
   "cell_type": "markdown",
   "id": "301453e0",
   "metadata": {},
   "source": [
    "If we need a function that leaves its input unchanged..."
   ]
  },
  {
   "cell_type": "code",
   "execution_count": 2,
   "id": "a7e5c7a8",
   "metadata": {},
   "outputs": [
    {
     "name": "stdout",
     "output_type": "stream",
     "text": [
      "[1, 5, 5, 1]\n",
      "[1, 1]\n"
     ]
    }
   ],
   "source": [
    "def remove_all(a, k):\n",
    "    '''\n",
    "    Input: a is  list, k an object\n",
    "    Result: remove all the items equal k from a\n",
    "    '''\n",
    "    \n",
    "    i = 0\n",
    "    a = a[:]\n",
    "    n = len(a)\n",
    "    \n",
    "    while i < n:\n",
    "        if a[i] == k:\n",
    "            del(a[i])\n",
    "            n -= 1\n",
    "        else:\n",
    "            i += 1\n",
    "            \n",
    "    return a\n",
    "\n",
    "a = [1,5,5,1]\n",
    "c = remove_all(a, 5) \n",
    "\n",
    "print(a)\n",
    "print(c)"
   ]
  },
  {
   "cell_type": "code",
   "execution_count": 3,
   "id": "b667a555",
   "metadata": {},
   "outputs": [
    {
     "name": "stdout",
     "output_type": "stream",
     "text": [
      "[0, [1, 2], 3]\n",
      "[0, [1, 2], 3]\n",
      "139719849048640\n",
      "139719849048640\n",
      "139719849048832\n",
      "[0, [1, 10], 3]\n",
      "[0, [1, 10], 3]\n",
      "True\n"
     ]
    }
   ],
   "source": [
    "a = [ 0, [1, 2], 3 ]\n",
    "b = a\n",
    "c = a[:]\n",
    "\n",
    "print(a)\n",
    "print(c)\n",
    "\n",
    "print( id(a) )\n",
    "print( id(b) )\n",
    "print( id(c) )\n",
    "\n",
    "a[1][1] = 10\n",
    "\n",
    "print(a)\n",
    "print(c)\n",
    "\n",
    "print( id(a[1]) == id(c[1]) )"
   ]
  },
  {
   "cell_type": "markdown",
   "id": "7879be5d",
   "metadata": {},
   "source": [
    "The `id()` function returns an unique identifier of the input object, it can be used to verify if two variables are aliases.\n",
    "\n",
    "The cloning operazion is *shallow*, it doesn't clone the nested lists"
   ]
  },
  {
   "cell_type": "code",
   "execution_count": 17,
   "id": "362f7ec0",
   "metadata": {},
   "outputs": [
    {
     "name": "stdout",
     "output_type": "stream",
     "text": [
      "a-> ['python', 'string', ['True', 3], 1, [4, 5], [1, 0], 10, [40, 12]]\n",
      "b-> [1, 'string', ['True', 3], 1, [4, 5], [1, 0], 10, [40, 12]]\n"
     ]
    }
   ],
   "source": [
    "a = [1, 'string', [2, 3], 1, [4, 5], [1, 0], 10, [40, 12] ]\n",
    "b = a[:]\n",
    "\n",
    "a[0] = 'python'\n",
    "\n",
    "b[2][0] = 'True'\n",
    "\n",
    "print('a->', a)\n",
    "print('b->', b)"
   ]
  },
  {
   "cell_type": "markdown",
   "id": "e8879cb2",
   "metadata": {},
   "source": [
    "This code clones the lists at the first level but not at the following ones"
   ]
  },
  {
   "cell_type": "code",
   "execution_count": 18,
   "id": "2ccb84ff",
   "metadata": {},
   "outputs": [
    {
     "name": "stdout",
     "output_type": "stream",
     "text": [
      "a-> ['python', 'string', [2, 3, ['PI', 3.14]], 1, [4, 5], [1, 0], 10, [40, 12]]\n",
      "b-> [1, 'string', ['True', 3, ['PI', 3.14]], 1, [4, 5], [1, 0], 10, [40, 12]]\n"
     ]
    }
   ],
   "source": [
    "a = [1, 'string', [2, 3, [2.71, 3.14]], 1, [4, 5], [1, 0], 10, [40, 12] ]\n",
    "b = []\n",
    "\n",
    "for x in a:\n",
    "    if type(x) != list:\n",
    "        b.append(x)\n",
    "    else:\n",
    "        b.append(x[:])\n",
    "        \n",
    "a[0] = 'python'\n",
    "b[2][0] = 'True'\n",
    "a[2][2][0] = 'PI'\n",
    "\n",
    "print('a->', a)\n",
    "print('b->', b)"
   ]
  },
  {
   "cell_type": "markdown",
   "id": "2f366fc8",
   "metadata": {},
   "source": [
    "To clone all nested lists (**deep cloning**), we need a program that is able to expand all branches and perform shallow cloning on every level. We need a **recursive** function. "
   ]
  },
  {
   "cell_type": "markdown",
   "id": "0631b75e",
   "metadata": {},
   "source": [
    "## Recursion\n",
    "\n",
    "Consider the probem: write a function called `t_sum` that takes in input a tuple of numbers and returns their sum.\n"
   ]
  },
  {
   "cell_type": "code",
   "execution_count": 19,
   "id": "70494a3d",
   "metadata": {},
   "outputs": [
    {
     "name": "stdout",
     "output_type": "stream",
     "text": [
      "35\n"
     ]
    }
   ],
   "source": [
    "t = (1,2,3,2,3,4,5,4,5,6)\n",
    "\n",
    "# sum all items in t\n",
    "\n",
    "sum_t = 0\n",
    "for x in t:\n",
    "    sum_t += x\n",
    "print(sum_t)\n"
   ]
  },
  {
   "cell_type": "markdown",
   "id": "5cfcbd4a",
   "metadata": {},
   "source": [
    "The same problem can be solved in another way startig by these considerations\n",
    "\n",
    "1. if `len(t)` is zero, `t_sum(t)` is zero\n",
    "2. else `t_sum(t) = t[0] + t_sum(t[1:])`\n",
    "\n",
    "This can ba translated in Python by the following *recursive funcion*"
   ]
  },
  {
   "cell_type": "code",
   "execution_count": 20,
   "id": "8318d6c5",
   "metadata": {},
   "outputs": [
    {
     "name": "stdout",
     "output_type": "stream",
     "text": [
      "35\n"
     ]
    }
   ],
   "source": [
    "def sum_t( t ):\n",
    "    if len(t) == 0:\n",
    "        return 0\n",
    "    else:\n",
    "        return t[0] + sum_t(t[1:])\n",
    "    \n",
    "\n",
    "t = (1,2,3,2,3,4,5,4,5,6)\n",
    "print(sum_t(t))"
   ]
  },
  {
   "cell_type": "markdown",
   "id": "c3349b37",
   "metadata": {},
   "source": [
    "## The deep-cloning problem\n",
    "\n",
    "Let be `deep_clone` the name of the function that we are going to design and let `a` its input that can be a list or a non-list. It follows this relation\n",
    "\n",
    "if `a` is a non-list (`int`, `float`, `str`, `tuple`, `bool`, `None`)\n",
    "\n",
    "`deep_clone( a ) = a`\n",
    "\n",
    "if `a` is a list `a = [a0, a1, a2, ...]` (where every `ai` can be a list or not) we have\n",
    "\n",
    "`deep_clone(a) = [ deep_clone(a0), deep_clone(a1), deep_clone(a2), ...]`\n",
    "\n",
    "How to handle all of this in Python?"
   ]
  },
  {
   "cell_type": "code",
   "execution_count": 21,
   "id": "1fb6b281",
   "metadata": {},
   "outputs": [
    {
     "name": "stdout",
     "output_type": "stream",
     "text": [
      "a-> [0, ['one', [20, 31]], [2.71, ['two', [300, [400, 500]]]], 10]\n",
      "b-> [0, ['one', [20, 31]], [2.71, ['two', [300, [400, 500]]]], 10]\n"
     ]
    }
   ],
   "source": [
    "def deep_clone(a):\n",
    "    if type(a) == list:\n",
    "        b = []\n",
    "        for x in a:\n",
    "            b.append( deep_clone(x) )\n",
    "        return b\n",
    "    else:\n",
    "        return a\n",
    "\n",
    "a = [0, ['one', [ 20, 31] ], [ 2.71, ['two', [300, [400, 500]]] ], 10 ]  \n",
    "b = deep_clone(a)\n",
    "\n",
    "print('a->', a)\n",
    "print('b->', b) "
   ]
  },
  {
   "cell_type": "markdown",
   "id": "fe1088ba",
   "metadata": {},
   "source": [
    "Use [Python Tutor](https://pythontutor.com) to verify the result.\n",
    "\n",
    "### List comprehension\n",
    "\n",
    "> ### Python note\n",
    "> It is a compact mechanism for generate a list that uses an expression applied to a sequence of values. The syntax is\n",
    ">\n",
    ">```python\n",
    ">[ espression that depends on elem for elem in sequence ]\n",
    ">```\n",
    ">\n",
    "> example\n",
    ">\n",
    ">```python\n",
    ">   a = [ x**2 for x in range(10) ]\n",
    ">   print(a)\n",
    ">\n",
    ">   [0, 1, 4, 9, 16, 25, 36, 49, 64, 81]\n",
    ">```"
   ]
  },
  {
   "cell_type": "markdown",
   "id": "5be55305",
   "metadata": {},
   "source": [
    "The `deep_clone()` function can be rewritten with a list comprehension. "
   ]
  },
  {
   "cell_type": "code",
   "execution_count": 22,
   "id": "a59a73f2",
   "metadata": {},
   "outputs": [
    {
     "name": "stdout",
     "output_type": "stream",
     "text": [
      "[0, ['one', [20, 31]], [2.71, ['two', [300, [400, 500]]]], 10]\n",
      "[0, ['one', [20, 31]], [2.71, ['two', [300, [400, 500]]]], 10]\n"
     ]
    }
   ],
   "source": [
    "def deep_clone(a):\n",
    "    if type(a) == list:\n",
    "        return [deep_clone(x) for x in a]\n",
    "    else:\n",
    "        return a\n",
    "\n",
    "a = [0, ['one', [ 20, 31] ], [ 2.71, ['two', [300, [400, 500]]] ], 10 ]  \n",
    "b = deep_clone(a)\n",
    "\n",
    "print(a)\n",
    "print(b) \n",
    "        "
   ]
  },
  {
   "cell_type": "markdown",
   "id": "2fe914e3",
   "metadata": {},
   "source": [
    "Another application of recursion\n",
    "\n",
    "## All binary strings of a given size\n",
    "\n",
    "Let `n` be an integer, we want to print all strings of size `n` containing the characters `0` and `1`. For example, if `n` is `3`, the function must print\n",
    "\n",
    "```\n",
    "000\n",
    "001\n",
    "010\n",
    "011\n",
    "100\n",
    "101\n",
    "110\n",
    "111\n",
    "```\n",
    "\n",
    "We start solving a different, and more general problem. We want a function that fills a list of size `n` in all possible way with characters `0` and `1`. When a sequence is generated, the function prints the list. This function, named `f`, takes in input the list `a` and a position `i` and fills all the position `>= i` in all the possible way. "
   ]
  },
  {
   "cell_type": "code",
   "execution_count": 4,
   "id": "b8d7038c",
   "metadata": {},
   "outputs": [
    {
     "name": "stdout",
     "output_type": "stream",
     "text": [
      "000\n",
      "001\n",
      "010\n",
      "011\n",
      "100\n",
      "101\n",
      "110\n",
      "111\n"
     ]
    }
   ],
   "source": [
    "def f(a, i):\n",
    "    '''\n",
    "    Parameters\n",
    "    ----------\n",
    "    a : a list of binary digits that will contain the output\n",
    "    i : is an index of a\n",
    "\n",
    "    a[0],..., a[i-1] are defined\n",
    "\n",
    "    Returns\n",
    "    -------\n",
    "    \n",
    "    puts in a[i],...,a[n-1] al the possible binary values and prints them\n",
    "\n",
    "    '''\n",
    "    if i == len(a): # the sequence is done\n",
    "        b = ''  # a is converted in a string\n",
    "        for x in a:\n",
    "            b += x\n",
    "        print(b)\n",
    "    else: # i < len(a)\n",
    "        a[i] = '0'\n",
    "        # fills all position from i+1\n",
    "        f(a, i+1)                \n",
    "        a[i] = '1'\n",
    "        # fills all position from i+1\n",
    "        f(a, i+1)\n",
    "        \n",
    "a = [None]*3\n",
    "f(a, 0)   # to fill the entire list, the i parameter must be zero"
   ]
  },
  {
   "cell_type": "markdown",
   "id": "47c052c2",
   "metadata": {},
   "source": [
    "The original problem is solved by the next function that provides a more convenient interface and starts the recursion by calling `f`."
   ]
  },
  {
   "cell_type": "code",
   "execution_count": 24,
   "id": "2f47ed92",
   "metadata": {},
   "outputs": [
    {
     "name": "stdout",
     "output_type": "stream",
     "text": [
      "000\n",
      "001\n",
      "010\n",
      "011\n",
      "100\n",
      "101\n",
      "110\n",
      "111\n"
     ]
    }
   ],
   "source": [
    "def all_strings_of_size(n):\n",
    "    def f(a, i):\n",
    "        '''\n",
    "        Parameters\n",
    "        ----------\n",
    "        a : a list of binary digits that will contain the output\n",
    "        i : is an index of a\n",
    "\n",
    "        a[0],..., a[i-1] are defined\n",
    "\n",
    "        Returns\n",
    "        -------\n",
    "\n",
    "        puts in a[i],...,a[n-1] al the possible binary values and prints them\n",
    "\n",
    "        '''\n",
    "        if i == len(a):\n",
    "            b = ''\n",
    "            for x in a:\n",
    "                b += x\n",
    "            print(b)\n",
    "        else: # i < len(a)\n",
    "            a[i] = '0'\n",
    "            # fills all position from i+1\n",
    "            f(a, i+1)                \n",
    "            a[i] = '1'\n",
    "            # fills all position from i+1\n",
    "            f(a, i+1)\n",
    "            \n",
    "    a = [None]*n\n",
    "    f(a, 0)\n",
    "\n",
    "\n",
    "all_strings_of_size(3)"
   ]
  },
  {
   "cell_type": "markdown",
   "id": "89704a87",
   "metadata": {},
   "source": [
    "The visibility of function `f` is limited within `all_strings_of_size` like all the local variables."
   ]
  },
  {
   "cell_type": "markdown",
   "id": "44b555c1",
   "metadata": {},
   "source": [
    "## The bubble-sort algorithm"
   ]
  },
  {
   "cell_type": "code",
   "execution_count": 25,
   "id": "9a97d0eb",
   "metadata": {},
   "outputs": [],
   "source": [
    "a = [3, 2, 5, 6, 4, 2, 8, 9, 0, 1, 2, 0]\n",
    "n = len(a)\n",
    "\n",
    "for i in range(n-1): \n",
    "    if a[i] > a[i+1]:\n",
    "        a[i], a[i+1] = a[i+1], a[i]"
   ]
  },
  {
   "cell_type": "markdown",
   "id": "a5ca1506",
   "metadata": {},
   "source": [
    "Moves the maximum of `a` in the last position of `a`. If the same loop is repeated, the maximum between the first `n-1` items is moved in position `n-2`. The next execution moves the maximum between the first `n-2` items in position `n-3`. It follows that, if the loop is repeated `n-1` times, the list will result sorted in increasing order."
   ]
  },
  {
   "cell_type": "code",
   "execution_count": 26,
   "id": "c046c783",
   "metadata": {},
   "outputs": [
    {
     "name": "stdout",
     "output_type": "stream",
     "text": [
      "[0, 0, 1, 2, 2, 2, 3, 4, 5, 6, 8, 9]\n"
     ]
    }
   ],
   "source": [
    "a = [3, 2, 5, 6, 4, 2, 8, 9, 0, 1, 2, 0]\n",
    "\n",
    "n = len(a)\n",
    "\n",
    "for c in range(n-1): \n",
    "    for i in range(n-1): \n",
    "        if a[i] > a[i+1]:\n",
    "            a[i], a[i+1] = a[i+1], a[i]\n",
    "\n",
    "print(a)"
   ]
  },
  {
   "cell_type": "markdown",
   "id": "ef70f56c",
   "metadata": {},
   "source": [
    "The previous is a *sorting algorithm* called **bubble-sort**.\n",
    "\n",
    "### Optimizations\n",
    "\n",
    "At the beginning of the inner loop, for a given value of `c`, the `c` larger items of the list occupy the last `c` positions from the smaller to the larger. So, comparing the items in the last `c` positions is unnecessary. This observation induces the first optimization.\n",
    "\n",
    "Observe that when `c` is `1` (at the second step) there is no need to check the last pair (`a[n-2] <= a[n-1]`) because `a[n-1]` is the maximum. When `c` is `2` we know that `a[n-3] <= a[n-2]` and so on. In general, at the beginning of the inner loop, for a given value of `c`, the `c` larger items of the list occupy the last `c` positions from the smaller to the larger. So, comparing the items in the last `c` positions is unnecessary. This observation induces the first optimization of the code."
   ]
  },
  {
   "cell_type": "code",
   "execution_count": 5,
   "id": "7d1afdec",
   "metadata": {},
   "outputs": [
    {
     "name": "stdout",
     "output_type": "stream",
     "text": [
      "[0, 0, 1, 2, 2, 2, 3, 4, 5, 6, 8, 9]\n"
     ]
    }
   ],
   "source": [
    "a = [3, 2, 5, 6, 4, 2, 8, 9, 0, 1, 2, 0]\n",
    "\n",
    "n = len(a)\n",
    "\n",
    "for c in range(n-1): \n",
    "    for i in range(n-1-c): \n",
    "        if a[i] > a[i+1]:\n",
    "            a[i], a[i+1] = a[i+1], a[i]\n",
    "\n",
    "print(a)"
   ]
  },
  {
   "cell_type": "markdown",
   "id": "1a27e1c4",
   "metadata": {},
   "source": [
    "The first version of the algorithm requires $(n-1)^2$ iterations, the latter one\n",
    "$$(n-1)+(n-2)+...+1 = \\frac{n(n-1)}{2}$$\n",
    "\n",
    "Now consider this example"
   ]
  },
  {
   "cell_type": "code",
   "execution_count": 6,
   "id": "3c955ef9",
   "metadata": {},
   "outputs": [
    {
     "name": "stdout",
     "output_type": "stream",
     "text": [
      "[0, 1, 2, 3, 4, 5, 6, 7, 8, 9, 10]\n",
      "[0, 1, 2, 3, 4, 5, 6, 7, 8, 9, 10]\n",
      "[0, 1, 2, 3, 4, 5, 6, 7, 8, 9, 10]\n",
      "[0, 1, 2, 3, 4, 5, 6, 7, 8, 9, 10]\n",
      "[0, 1, 2, 3, 4, 5, 6, 7, 8, 9, 10]\n",
      "[0, 1, 2, 3, 4, 5, 6, 7, 8, 9, 10]\n",
      "[0, 1, 2, 3, 4, 5, 6, 7, 8, 9, 10]\n",
      "[0, 1, 2, 3, 4, 5, 6, 7, 8, 9, 10]\n",
      "[0, 1, 2, 3, 4, 5, 6, 7, 8, 9, 10]\n",
      "[0, 1, 2, 3, 4, 5, 6, 7, 8, 9, 10]\n",
      "the final list is:  [0, 1, 2, 3, 4, 5, 6, 7, 8, 9, 10]\n"
     ]
    }
   ],
   "source": [
    "a = [0,1,2,10,3,4,5,6,7,8,9]\n",
    "n = len(a)\n",
    "\n",
    "for c in range(n-1):\n",
    "    for i in range(n-1-c):\n",
    "        if a[i] > a[i+1]:\n",
    "            a[i], a[i+1] = a[i+1], a[i]\n",
    "    print(a)\n",
    "    \n",
    "print('the final list is: ', a)"
   ]
  },
  {
   "cell_type": "markdown",
   "id": "a897d2a1",
   "metadata": {},
   "source": [
    "Observe that `a` is sorted well before the end of the outer cycle. How to recognize it? If the `if` condition is `False` for all consecutive pairs of `a` we can deduce that `a` is sorted.\n",
    "\n",
    "In the next version we introduce a boolean variable `is_sorted` that, in case it remains `True` after the loop, the outer loop can end."
   ]
  },
  {
   "cell_type": "code",
   "execution_count": 7,
   "id": "21fda0a2",
   "metadata": {},
   "outputs": [
    {
     "name": "stdout",
     "output_type": "stream",
     "text": [
      "[0, 2, 8, 4, 5, 6, 7, 9]\n",
      "[0, 2, 4, 5, 6, 7, 8, 9]\n",
      "the final list is:  [0, 2, 4, 5, 6, 7, 8, 9]\n"
     ]
    }
   ],
   "source": [
    "a = [0 , 9, 2, 8, 4, 5, 6, 7]\n",
    "\n",
    "n = len(a)\n",
    "\n",
    "for c in range(n-1):\n",
    "    is_sorted = True\n",
    "    for i in range(n-1-c):\n",
    "        if a[i] > a[i+1]:\n",
    "            is_sorted = False\n",
    "            a[i], a[i+1] = a[i+1], a[i]\n",
    "    if is_sorted:\n",
    "        break\n",
    "    print(a)\n",
    "\n",
    "print('the final list is: ', a)"
   ]
  },
  {
   "cell_type": "markdown",
   "id": "ac04c905",
   "metadata": {},
   "source": [
    "Let's make it a function"
   ]
  },
  {
   "cell_type": "code",
   "execution_count": 8,
   "id": "226e70dc",
   "metadata": {},
   "outputs": [
    {
     "name": "stdout",
     "output_type": "stream",
     "text": [
      "the final list is:  [0, 2, 4, 5, 6, 7, 8, 9]\n"
     ]
    }
   ],
   "source": [
    "def bubble_sort(a):\n",
    "    n = len(a)\n",
    "\n",
    "    for c in range(n-1):\n",
    "        is_sorted = True\n",
    "        for i in range(n-1-c):\n",
    "            if a[i] > a[i+1]:\n",
    "                is_sorted = False\n",
    "                a[i], a[i+1] = a[i+1], a[i]\n",
    "        if is_sorted:\n",
    "            break\n",
    "\n",
    "a = [0 , 9, 2, 8, 4, 5, 6, 7]\n",
    "bubble_sort(a)\n",
    "print('the final list is: ', a)"
   ]
  },
  {
   "cell_type": "markdown",
   "id": "63f8490b",
   "metadata": {},
   "source": [
    "We can replace the external `for` loop with an 'infinite' loop that, soon or later, will be *broken*."
   ]
  },
  {
   "cell_type": "code",
   "execution_count": 10,
   "id": "73c326ab",
   "metadata": {},
   "outputs": [
    {
     "name": "stdout",
     "output_type": "stream",
     "text": [
      "the final list is:  [0, 2, 4, 5, 6, 7, 8, 9]\n"
     ]
    }
   ],
   "source": [
    "def bubble_sort( a ):\n",
    "    n = len(a)\n",
    "    c = 0\n",
    "    while True: # it means forever\n",
    "        is_sorted = True\n",
    "        for i in range(n-1-c):\n",
    "            if a[i] > a[i+1]:\n",
    "                is_sorted = False\n",
    "                a[i], a[i+1] = a[i+1], a[i]\n",
    "        if is_sorted:\n",
    "            break\n",
    "        c += 1\n",
    "        \n",
    "        \n",
    "a = [0 , 9, 2, 8, 4, 5, 6, 7]\n",
    "bubble_sort( a )\n",
    "print('the final list is: ', a)"
   ]
  },
  {
   "cell_type": "markdown",
   "id": "0e8fa229",
   "metadata": {},
   "source": [
    "...or we can make the outer loop depend on the variable `is_sorted`."
   ]
  },
  {
   "cell_type": "code",
   "execution_count": 11,
   "id": "8db0bbe4",
   "metadata": {},
   "outputs": [
    {
     "name": "stdout",
     "output_type": "stream",
     "text": [
      "the final list is:  [0, 2, 4, 5, 6, 7, 8, 9]\n"
     ]
    }
   ],
   "source": [
    "def bubble_sort( a ):\n",
    "    n = len(a)\n",
    "    c = 0\n",
    "    \n",
    "    is_sorted = False\n",
    "    while not is_sorted:\n",
    "        is_sorted = True\n",
    "        for i in range(n-1-c):\n",
    "            if a[i] > a[i+1]:\n",
    "                is_sorted = False\n",
    "                a[i], a[i+1] = a[i+1], a[i]\n",
    "        c += 1\n",
    "        \n",
    "        \n",
    "a = [0 , 9, 2, 8, 4, 5, 6, 7]\n",
    "bubble_sort( a )\n",
    "print('the final list is: ', a)"
   ]
  },
  {
   "cell_type": "markdown",
   "id": "0265f669",
   "metadata": {},
   "source": [
    "## Exercises for the weekend\n",
    "\n",
    "\n",
    "1. Write a function, named `sum_all`, that takes in input a sequence `a` (a list or a tuple) and outputs the sum of all numbers in `a` and in its subsequences. *Example*: with input `a = ( 4, 'python, [2, (1, 'str')], 9 )`, the function must return `16`.\n",
    "\n",
    "3. Modify the `all_strings_of_size` function so that it accepts as input, in addition to `n`, a list `s` of symbols and prints all the strings of length `n` that can be obtained with the symbols in `s`.\n",
    "\n",
    "4. Write a function, named `power_set`, that takes in input a list `a` that contains a set of integers `I` and prints all possible subsets of `I`.\n",
    "\n",
    "    *Example*: If `a = [0,2,3]`, the function must print\n",
    "    \n",
    "    ```python\n",
    "    []\n",
    "    [0]\n",
    "    [2]\n",
    "    [3]\n",
    "    [0,2]\n",
    "    [0,3]\n",
    "    [2,3]\n",
    "    [0,2,3]\n",
    "    ```\n",
    "    \n",
    "    *Hint*: An adaptation of the `f` function used by `all_strings_of_size()` might be useful."
   ]
  },
  {
   "cell_type": "code",
   "execution_count": null,
   "id": "78aefd15",
   "metadata": {},
   "outputs": [],
   "source": []
  },
  {
   "cell_type": "code",
   "execution_count": null,
   "id": "67697f29",
   "metadata": {},
   "outputs": [],
   "source": []
  }
 ],
 "metadata": {
  "kernelspec": {
   "display_name": "Python 3 (ipykernel)",
   "language": "python",
   "name": "python3"
  },
  "language_info": {
   "codemirror_mode": {
    "name": "ipython",
    "version": 3
   },
   "file_extension": ".py",
   "mimetype": "text/x-python",
   "name": "python",
   "nbconvert_exporter": "python",
   "pygments_lexer": "ipython3",
   "version": "3.10.12"
  }
 },
 "nbformat": 4,
 "nbformat_minor": 5
}
