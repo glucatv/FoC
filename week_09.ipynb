{
 "cells": [
  {
   "cell_type": "markdown",
   "id": "b73a7967",
   "metadata": {},
   "source": [
    "# The binary search algorithm"
   ]
  },
  {
   "cell_type": "code",
   "execution_count": 1,
   "id": "933fc1f9",
   "metadata": {},
   "outputs": [
    {
     "name": "stdout",
     "output_type": "stream",
     "text": [
      "8\n"
     ]
    }
   ],
   "source": [
    "def bin_search( a, k ):\n",
    "    '''    \n",
    "    Parameters\n",
    "    ----------\n",
    "    a : a sorted list\n",
    "    k : an object\n",
    "\n",
    "    Returns\n",
    "    -------\n",
    "    If k is in a, the position of k otherwise None\n",
    "\n",
    "    '''\n",
    "    lx, rx = 0, len(a)\n",
    "    \n",
    "    # the current subsequence is a[lx:rx]\n",
    "    \n",
    "    while lx < rx:\n",
    "        cx = (lx+rx)//2\n",
    "        if k == a[cx]:\n",
    "            return cx\n",
    "        elif k < a[cx]:\n",
    "            rx = cx\n",
    "        else: # k > a[cx]\n",
    "            lx = cx+1\n",
    "            \n",
    "    return None\n",
    "    \n",
    "\n",
    "a = [0, 0, 3, 3, 6, 8, 8, 10, 12, 16, 18, 18, 20]\n",
    "k = 12\n",
    "        \n",
    "print( bin_search(a, k) )"
   ]
  },
  {
   "cell_type": "markdown",
   "id": "4beb94d0",
   "metadata": {},
   "source": [
    "### The time complexity of the algorithm\n",
    "\n",
    "A single iteration of the `while` loop takes `O(1)` time. We have to count how many iterations are required in the worst case. This occurs when `lx > rx`, that is, the interval is empty and `k` is not in `a`.\n",
    "\n",
    "Let us define `I_0`, `I_1`,..., `I_t` the itervals at step `0`, `1`,..., `t` where `t` is the last step. We have to compute `t`. Observe the following\n",
    "\n",
    "    |I_0| = n = n/(2**0)\n",
    "    |I_1| = n/2 = n/(2**1)\n",
    "    |I_2| = n/4 = n/(2**2)\n",
    "    ...\n",
    "    |I_i| = n/(2**i)\n",
    "    ...\n",
    "    |I_t| = 1 = n/(2**t)\n",
    "\n",
    "The last equation implies that\n",
    "\n",
    "    2**t = n\n",
    "\n",
    "that is `t = log(n)`.\n",
    "\n",
    "Summarizing, the time complexity of the binary search algorithm is `O(log n)` in the worst case."
   ]
  },
  {
   "cell_type": "markdown",
   "id": "183a3838",
   "metadata": {},
   "source": [
    "# The computational cost in terms of space (memory): the space complexity\n",
    "\n",
    "It must be consider the amount of *additional* memory used by the solution: the space for the input and the output should be not included since it is something outside the solution and can not be optimized.\n",
    "\n",
    "Consider a string `a` of size `n`. The next function uses `O(n)` additional memory since it creates `a[::-1]`, the size of `a` is not considered."
   ]
  },
  {
   "cell_type": "code",
   "execution_count": 2,
   "id": "ca423fc0",
   "metadata": {},
   "outputs": [],
   "source": [
    "def is_palindrome( a ):\n",
    "    '''\n",
    "    Input a: a string\n",
    "    Returns: True if a is palindrome, False otherwise\n",
    "    '''\n",
    "    \n",
    "    return a == a[::-1] # O(n)"
   ]
  },
  {
   "cell_type": "markdown",
   "id": "01fe8d1d",
   "metadata": {},
   "source": [
    "**Time complexity**: let `n = len(a)`, the operations are\n",
    "\n",
    "- create `a[::-1]`: `O(n)` always\n",
    "- comparing `a` with `a[::-1]`: `O(n)` in the worst case\n",
    "\n",
    "\n",
    "**Space complexity**:\n",
    "\n",
    "- Space of `a` is `O(n)`\n",
    "- space of `a[::-1]` is `O(n)`\n",
    "- space for loading the function: `O(1)`\n",
    "\n",
    "Another version:"
   ]
  },
  {
   "cell_type": "code",
   "execution_count": 4,
   "id": "dd2b9bbb",
   "metadata": {},
   "outputs": [
    {
     "name": "stdout",
     "output_type": "stream",
     "text": [
      "True\n",
      "False\n"
     ]
    }
   ],
   "source": [
    "def is_palindrome(a):\n",
    "    n = len(a)\n",
    "    \n",
    "    lx, rx = 0, n-1 \n",
    "    while lx < rx:\n",
    "        if a[lx] == a[rx]:\n",
    "            lx += 1\n",
    "            rx -= 1\n",
    "        else:\n",
    "            return False\n",
    "        \n",
    "    return True\n",
    "\n",
    "\n",
    "pal = 'kayak'\n",
    "non_pal = 'python'\n",
    "\n",
    "print(is_palindrome(pal))\n",
    "print(is_palindrome(non_pal))"
   ]
  },
  {
   "cell_type": "markdown",
   "id": "ddf221b2",
   "metadata": {},
   "source": [
    "**Time complexity**: let `n = len(a)`, in the worst case the while loop is executed `n/2` times, then the worst case cost is `O(n)`\n",
    "\n",
    "**Space complexity**: \n",
    "    \n",
    "- Space of `a` is `O(n)`\n",
    "- A fixed number of variables: `O(1)`\n",
    "- space for loading the function: `O(1)`\n",
    "\n",
    "The function uses `O(1)` additional memory because it uses a constant number of local `int` variable."
   ]
  },
  {
   "cell_type": "markdown",
   "id": "cc2b2b28",
   "metadata": {},
   "source": [
    "# Problem\n",
    "\n",
    "Write a function, named `intersection`, that takes two lists `a` and `b` and returns the list of elements that are in both `a` and `b`. The output list must not contain repeated items.\n",
    "\n",
    "Let `c` be the intersection list, for each item `x` in `a` if `x` is also in `b` (but `x` is not already in `c`), `x` have to be appended to `c`."
   ]
  },
  {
   "cell_type": "code",
   "execution_count": 5,
   "id": "ff3ed3c7",
   "metadata": {},
   "outputs": [
    {
     "name": "stdout",
     "output_type": "stream",
     "text": [
      "[9, 8, 3]\n"
     ]
    }
   ],
   "source": [
    "def intersection( a, b ):\n",
    "    '''\n",
    "    Parameters\n",
    "    ----------\n",
    "    a, b : lists of numbers\n",
    "\n",
    "    Returns\n",
    "    -------\n",
    "    a list c that contains the intersection of a and b (no repetitions!)\n",
    "    \n",
    "    let k be the size of the intersection\n",
    "\n",
    "    '''\n",
    "    \n",
    "    n, m = len(a), len(b) # O(1) time\n",
    "    c = [] #  the output, the intersection between a and b\n",
    "    \n",
    "    '''\n",
    "    x in a falls also in c if and only if x is also in b and x not in c\n",
    "    '''\n",
    "    \n",
    "    for x in a: # for n times\n",
    "        if (x in b) and (x not in c): # O(m) + O(k)\n",
    "            c.append(x) # O(1)\n",
    "        \n",
    "            \n",
    "    return c\n",
    "\n",
    "\n",
    "a = [4, 2, 9, 0, 2, 8, 3, 4]\n",
    "b = [3, 1, 9, 10, 7, 8, 3]\n",
    "\n",
    "c = intersection(a, b)\n",
    "\n",
    "print(c)"
   ]
  },
  {
   "cell_type": "markdown",
   "id": "b45bb23b",
   "metadata": {},
   "source": [
    "Let `k` be the size of `c`, the time complexity is: `n*( O(m) + O(k))`. The worst case is `m` and `k` are equal to `n`, this implies that the time complexity is `O(n**2)`.\n",
    "\n",
    "The space complexity: O(1) \n",
    "\n",
    "If we sort `b`, with the binary search strategy we can decide in `O(log n)` whether `x` is in `b`. If `a` is sorted `c` will be also sorted then we can test that `x` is not in `c` by  comparing `x` with the last item in `c`.\n",
    "\n",
    "The sorting is done with the `sort()` method of list. It is more efficient than the Bubble Sort, its time complexity is `O(n log n)`. This method modifies the list. If we want to mantain the list unchanged we can use the `sorted()` function that returns a new sorted list without side effects on the input. Its time complexity is the same of the `sort` method."
   ]
  },
  {
   "cell_type": "code",
   "execution_count": 7,
   "id": "40b00c78",
   "metadata": {},
   "outputs": [
    {
     "name": "stdout",
     "output_type": "stream",
     "text": [
      "[3, 8, 9]\n"
     ]
    }
   ],
   "source": [
    "def binary_search(a, k):\n",
    "    '''\n",
    "    Input: a a sorted list, k a value\n",
    "    Returns the  position of k in a or None if\n",
    "        k not in a\n",
    "    '''\n",
    "    n = len(a)\n",
    "    \n",
    "    lx, rx = 0, n-1 # define the current searching space\n",
    "                    # a[rx], a[rx+1], ..., a[lx]\n",
    "    \n",
    "    found = False\n",
    "    while lx <= rx and not found:\n",
    "        p = (lx+rx)//2\n",
    "        if a[p] == k:\n",
    "            found = True\n",
    "        elif k < a[p]:\n",
    "            rx = p-1 \n",
    "        else: # k > a[p]\n",
    "            lx = p+1\n",
    "    \n",
    "    if found:\n",
    "        return p\n",
    "    else:\n",
    "        return None\n",
    "    \n",
    "def intersection( a, b ):\n",
    "    '''\n",
    "    Parameters\n",
    "    ----------\n",
    "    a, b : lists of numbers\n",
    "\n",
    "    Returns\n",
    "    -------\n",
    "    a list c that contains the intersection of a and b (no repetitions!)\n",
    "    \n",
    "    let k be the size of the intersection\n",
    "\n",
    "    '''\n",
    "    \n",
    "    n, m = len(a), len(b) # O(1) time\n",
    "    c = [] #  the output, the intersection between a and b\n",
    "    \n",
    "    '''\n",
    "    x in a falls also in c if and only if x is also in b and x not in c\n",
    "    '''\n",
    "    \n",
    "    a.sort() # O(n log n)\n",
    "    b.sort() # O(m log m)\n",
    "    \n",
    "    for x in a: # for n times\n",
    "        if binary_search(b, x) != None and\\\n",
    "            (len(c) == 0 or c[-1] != x): # O(lon m) + O(1)\n",
    "            c.append(x) # O(1)\n",
    "            \n",
    "    '''\n",
    "    The time complexity is: n*( O(log m) + O(1)). The worst case\n",
    "    is m equal to n this means that the time complexity is O(n log n)\n",
    "    \n",
    "    The space complexity: O(n) if n is equal to m, because the algorithm\n",
    "        implemented by sort method.\n",
    "    '''\n",
    "            \n",
    "    return c\n",
    "\n",
    "a = [4, 2, 9, 0, 2, 8, 3, 4]\n",
    "b = [3, 1, 9, 10, 7, 8, 3]\n",
    "\n",
    "c = intersection(a, b)\n",
    "print(c)"
   ]
  },
  {
   "cell_type": "markdown",
   "id": "dce90b8d",
   "metadata": {},
   "source": [
    "`O(n log n)` is the cost of the sorting and also the cost of the or loop. We can design a more efficent algorithm that reduces to `O(n)` the cost of the loop. Like the previous one the algorithm starts sorting `a` and `b` next consider their first elements, if the one in `a` is smaller than the one in `b`, the first one cannot be in the intersection so we can pass to the the next one in `a`; similarly, if the first item in `b` is smaller than the first one in `a`; in the case they are equal, this item belongs to the intersection. The algorithm continue with the following items in `a` and in `b`."
   ]
  },
  {
   "cell_type": "code",
   "execution_count": 8,
   "id": "666ac733",
   "metadata": {},
   "outputs": [
    {
     "name": "stdout",
     "output_type": "stream",
     "text": [
      "[3, 8, 9]\n"
     ]
    }
   ],
   "source": [
    "def intersection(a, b):\n",
    "    n, m = len(a), len(b)\n",
    "    a.sort()   # O(n log n)\n",
    "    b.sort()   # O(m log m)\n",
    "    c = []\n",
    "    \n",
    "    i, j = 0, 0\n",
    "    \n",
    "    while i < n and j < m: # O(n+m)\n",
    "        if a[i] == b[j] and (len(c) == 0 or c[-1] != a[i]):\n",
    "            c.append(a[i])\n",
    "            i += 1\n",
    "            j += 1\n",
    "        elif a[i] > b[j]:\n",
    "            j += 1\n",
    "        else:\n",
    "            i += 1\n",
    "    \n",
    "    return c\n",
    "\n",
    "a = [4, 2, 9, 0, 2, 8, 3, 4]\n",
    "b = [3, 1, 9, 10, 7, 8, 3]\n",
    "\n",
    "c = intersection(a, b)\n",
    "print(c)"
   ]
  }
 ],
 "metadata": {
  "kernelspec": {
   "display_name": "Python 3 (ipykernel)",
   "language": "python",
   "name": "python3"
  },
  "language_info": {
   "codemirror_mode": {
    "name": "ipython",
    "version": 3
   },
   "file_extension": ".py",
   "mimetype": "text/x-python",
   "name": "python",
   "nbconvert_exporter": "python",
   "pygments_lexer": "ipython3",
   "version": "3.10.12"
  }
 },
 "nbformat": 4,
 "nbformat_minor": 5
}
