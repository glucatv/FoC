{
 "cells": [
  {
   "cell_type": "markdown",
   "id": "68ae205a",
   "metadata": {},
   "source": [
    "# Exercises for the weekend - solutions\n",
    "\n",
    "\n",
    "**Exercise 1**. Write a function called `mirror()` that takes a string `a` in input and returns the reverse of `a`. Example\n",
    "    \n",
    "    ```python\n",
    "    mirror('abcde')\n",
    "    ```\n",
    "    \n",
    "    returns `edcba`."
   ]
  },
  {
   "cell_type": "code",
   "execution_count": 3,
   "id": "aa095a17",
   "metadata": {},
   "outputs": [
    {
     "name": "stdout",
     "output_type": "stream",
     "text": [
      "edcba\n"
     ]
    }
   ],
   "source": [
    "def mirror( a ):\n",
    "    '''\n",
    "    Parameters\n",
    "    ----------\n",
    "    a : is a string\n",
    "\n",
    "    Returns\n",
    "    -------\n",
    "    a new string that contains the same characters of a but in reverse order\n",
    "    '''\n",
    "    b = ''\n",
    "    \n",
    "    # if len(a) == n, the next loop requires\n",
    "    # n**2 copies (more ore less)\n",
    "    for x in a:\n",
    "        b = x+b # creates a new string of size len(b)+1, this implies len(b)+1 copies \n",
    "\n",
    "    return b\n",
    "\n",
    "x = 'abcde'\n",
    "y = mirror(x)\n",
    "print(y)"
   ]
  },
  {
   "cell_type": "markdown",
   "id": "09c09808",
   "metadata": {},
   "source": [
    "The total number of copy operations is\n",
    "\n",
    "```\n",
    "1+2+3+...+n-2+n-1+n = (n+1)n/2\n",
    "```\n",
    "\n",
    "order of magnitude `n**2`, very inefficient for big values of `n`.\n",
    "\n",
    "**Negative indexes and slicing with steps**. A slicing operation skips a fixed number of items. Examples: "
   ]
  },
  {
   "cell_type": "code",
   "execution_count": 2,
   "id": "9c0e5050",
   "metadata": {},
   "outputs": [
    {
     "name": "stdout",
     "output_type": "stream",
     "text": [
      "9\n",
      "8\n",
      "135\n",
      "03\n",
      "159\n",
      "987\n"
     ]
    }
   ],
   "source": [
    "a = '0123456789'\n",
    "\n",
    "print(a[-1])  # equal to a[len(a)-1]\n",
    "print(a[-2])  # equal to a[len(a)-2]\n",
    "print(a[1:6:2])  # step 2 \n",
    "print(a[:6:3])   # step 3\n",
    "print(a[1::4])   # step 4\n",
    "print(a[:6:-1])  # step -1, the first index must be grater than the second one"
   ]
  },
  {
   "cell_type": "markdown",
   "id": "bcb52065",
   "metadata": {},
   "source": [
    "The step can be negative, in this case the start position index must be greater than the end position index and the items are taken backwards. A compact way to mirror a string is to slice the entire string with step `-1` on the entire string."
   ]
  },
  {
   "cell_type": "code",
   "execution_count": 4,
   "id": "ce69301b",
   "metadata": {},
   "outputs": [
    {
     "name": "stdout",
     "output_type": "stream",
     "text": [
      "543210\n"
     ]
    }
   ],
   "source": [
    "def mirror( a ):\n",
    "    '''\n",
    "    Parameters\n",
    "    ----------\n",
    "    a : is a string\n",
    "\n",
    "    Returns\n",
    "    -------\n",
    "    a new string that contains the same characters of a but in reverse order\n",
    "    '''\n",
    "    return a[::-1]\n",
    "\n",
    "b = mirror('012345')\n",
    "\n",
    "print(b)"
   ]
  },
  {
   "cell_type": "markdown",
   "id": "c36fa4f0",
   "metadata": {},
   "source": [
    "**Exercise 2**: A point in the Euclidean space can be described with a tuple that contains the two coordinates. A circle can be described with a tuple that contains a point for the center and a float for the radius. Example:\n",
    "\n",
    "```python\n",
    "    c = ( (3,1.2), 5 ) \n",
    "```\n",
    "\n",
    "is a circle centered in the point with coordinates `x:3` and `y:1.2` and radius `5`.\n",
    "\n",
    "Write a function, named `are_intersected`, that takes in input two circles and returns `True` if and only if the two circles intersect."
   ]
  },
  {
   "cell_type": "code",
   "execution_count": 5,
   "id": "2758a1ca",
   "metadata": {},
   "outputs": [
    {
     "name": "stdout",
     "output_type": "stream",
     "text": [
      "False\n"
     ]
    }
   ],
   "source": [
    "def are_intersected(c0, c1):\n",
    "    '''\n",
    "        Input: c0, c1 are tuples of size 2. The first item is the center, the second is the radius\n",
    "        Result: True iff c0 intersection c1 is not empty\n",
    "    '''\n",
    "\n",
    "    x0, y0 = c0[0]  # unpacking\n",
    "    p1 = c1[0]\n",
    "    r0 = c0[1]\n",
    "    r1 = c1[1]\n",
    "    \n",
    "    d =  ( (x0 - p1[0])**2 + (y0 - p1[1])**2 )**0.5\n",
    "    \n",
    "    return d <= r0+r1\n",
    "\n",
    "c0 = ( (3,1.2), 5 )\n",
    "c1 = ( (3,8), 1)\n",
    "\n",
    "print( are_intersected(c0, c1) )"
   ]
  },
  {
   "cell_type": "markdown",
   "id": "39426a69",
   "metadata": {},
   "source": [
    "**Exercise 3** The list `a` contains numbers. Write a program that prints the number longest number (the one that contains more symbols). *[Hint]* try the function `str()`...\n",
    "\n",
    "> ### Python note\n",
    ">\n",
    "> The `srt()` function converts its input in a string"
   ]
  },
  {
   "cell_type": "code",
   "execution_count": 1,
   "id": "8d0854f1",
   "metadata": {},
   "outputs": [
    {
     "name": "stdout",
     "output_type": "stream",
     "text": [
      "3.1415\n"
     ]
    }
   ],
   "source": [
    "def f(n):\n",
    "    return len(str(n))\n",
    "   \n",
    "print( max([6, 100, 3.1415, 0.912, 7], key = f) )"
   ]
  },
  {
   "cell_type": "markdown",
   "id": "0aa3e9b6",
   "metadata": {},
   "source": [
    "The function `f` converts `n` in a string and then returns its size."
   ]
  },
  {
   "cell_type": "markdown",
   "id": "9e5feb9f",
   "metadata": {},
   "source": [
    "# Lists\n",
    "\n",
    "Mutable sequence of items that support the *indexing*, *slicing*, *concatenation*, *repetition*, *packing* and *unpacking* operations, the `len()` function and mutable operations like item assignment, insertion and deletion."
   ]
  },
  {
   "cell_type": "code",
   "execution_count": 6,
   "id": "c841edd4",
   "metadata": {},
   "outputs": [
    {
     "name": "stdout",
     "output_type": "stream",
     "text": [
      "python ['python', (1, 2, 3), [0, 1], 8] ['d', 8, [0, 1], (1, 2, 3)]\n",
      "9\n",
      "[1, 2.0, 'python', (1, 2, 3), [0, 1], 8, 'd', 8, 10, '100', '200']\n",
      "(1, 2, 3, 3, 4, 5)\n",
      "(1, 2, 3, 3, 4, 5, 1, 2, 3, 3, 4, 5)\n",
      "[1, 2, 3, 1, 2, 3, 1, 2, 3]\n",
      "[1, 2, 3, 123, 2, 3, 1, 2, 3]\n",
      "[1, 2, 3, 2, 3, 1, 2, 3]\n",
      "False\n",
      "1\n",
      "2\n",
      "3\n",
      "2\n",
      "3\n",
      "1\n",
      "2\n",
      "3\n",
      "140027817635840\n"
     ]
    }
   ],
   "source": [
    "a = [] # an empty list\n",
    "a = [1, 2.0, 'python', (1,2,3), [0,1], 8, 'd', 8, 10]\n",
    "\n",
    "print( a[2], a[2:6], a[6:2:-1] )\n",
    "print(len(a))\n",
    "\n",
    "b = a + ['100', '200']\n",
    "\n",
    "t = (1,2,3) + (3,4,5)\n",
    "\n",
    "print(b)\n",
    "print(t)\n",
    "\n",
    "t = 2*t\n",
    "a = [1,2,3]*3\n",
    "\n",
    "print(t)\n",
    "print(a)\n",
    "\n",
    "a[3] = 123\n",
    "\n",
    "print(a)\n",
    "\n",
    "del(a[3])\n",
    "\n",
    "print(a)\n",
    "\n",
    "print(  4 in a  )\n",
    "\n",
    "for x in a:\n",
    "    print(x)\n",
    "print(id(a))\n"
   ]
  },
  {
   "cell_type": "markdown",
   "id": "6f009102",
   "metadata": {},
   "source": [
    "**Exercise**. Write a function named `remove_k` that takes in input a list of integers `a` and an integer `k`, it removes from `a` all the occurrences of `k`."
   ]
  },
  {
   "cell_type": "code",
   "execution_count": 8,
   "id": "f50576bf",
   "metadata": {},
   "outputs": [
    {
     "name": "stdout",
     "output_type": "stream",
     "text": [
      "[1, 3, 4, 4, 41]\n"
     ]
    }
   ],
   "source": [
    "def remove_all(a, k):\n",
    "    '''\n",
    "    Input: a is  list, k an object\n",
    "    Result: remove all the items equal k from a\n",
    "    '''\n",
    "    \n",
    "    i = 0\n",
    "    n = len(a)\n",
    "    \n",
    "    while i < n:\n",
    "        if a[i] == k:\n",
    "            del(a[i])\n",
    "            n -= 1\n",
    "        else:\n",
    "            i += 1\n",
    "        \n",
    "    return a\n",
    "    \n",
    "\n",
    "a = [1,5,5,3,4,4,5,41]\n",
    "\n",
    "a = remove_all(a, 5)\n",
    "print(a)"
   ]
  },
  {
   "cell_type": "markdown",
   "id": "e92977be",
   "metadata": {},
   "source": [
    "## The `append` method of lists"
   ]
  },
  {
   "cell_type": "code",
   "execution_count": 9,
   "id": "cf0a29f3",
   "metadata": {},
   "outputs": [
    {
     "name": "stdout",
     "output_type": "stream",
     "text": [
      "[5, 3, 1, 9, 0, 2, 5, 5, 2, 1, 3, 6, 8]\n",
      "(5, 3, 1, 9, 0, 2, 5, 5, 2, 1, 3, 6, 8)\n",
      "[5, 3, 1, 9, 0, 2, 5, 5, 2, 1, 3, 6, 8]\n"
     ]
    }
   ],
   "source": [
    "a = [5, 3, 1, 9, 0, 2, 5, 5, 2, 1, 3, 6]\n",
    "\n",
    "a.append(8) # method that append an item at the end of a list\n",
    "\n",
    "print(a)\n",
    "\n",
    "t = tuple(a) # it converts a in a tuple\n",
    "\n",
    "print(t)\n",
    "\n",
    "# t.append(10)  wrong because t is not a list\n",
    "\n",
    "b = list(t) # it converts t in a list\n",
    "print(b)"
   ]
  },
  {
   "cell_type": "markdown",
   "id": "106ee939",
   "metadata": {},
   "source": [
    "Methods can be seen as special functions where the first parameter must be of a specific type. The method is called in this way\n",
    "\n",
    "```python\n",
    "x.methodname(x0, x1, ...)\n",
    "```\n",
    "\n",
    "where `x` is the first parameter, `x0`, `x1`,... are the other parameters.\n",
    "\n",
    "For example, the `append` method can be called only when the first parameter is of type list."
   ]
  },
  {
   "cell_type": "markdown",
   "id": "dc74ee71",
   "metadata": {},
   "source": [
    "## Aliasing and cloning"
   ]
  },
  {
   "cell_type": "code",
   "execution_count": 10,
   "id": "69eb71b0",
   "metadata": {},
   "outputs": [
    {
     "name": "stdout",
     "output_type": "stream",
     "text": [
      "c-> [5, 3, 1, 9, 0, 2, 5, 5, 2, 1, 3, 6]\n",
      "c-> [5, 3, 1, 9, 'a string', 2, 5, 5, 2, 1, 3, 6]\n",
      "a-> [5, 3, 1, 9, 'a string', 2, 5, 5, 2, 1, 3, 6]\n",
      "a-> [3, 1, 9, 'a string', 2, 5, 5, 2, 1, 3, 6]\n",
      "c-> [3, 1, 9, 'a string', 2, 5, 5, 2, 1, 3, 6]\n"
     ]
    }
   ],
   "source": [
    "a = [5, 3, 1, 9, 0, 2, 5, 5, 2, 1, 3, 6]\n",
    "\n",
    "c = a  # alias \n",
    "\n",
    "print('c->', c)\n",
    "c[4] = 'a string'\n",
    "print('c->', c)\n",
    "print('a->', a)\n",
    "del(a[0])\n",
    "print('a->', a)\n",
    "print('c->', c)"
   ]
  },
  {
   "cell_type": "markdown",
   "id": "6e0f5f3b",
   "metadata": {},
   "source": [
    "```python\n",
    "c = a\n",
    "```\n",
    "\n",
    "is not a copy but an *alias*, it introduces an alternative name for the list named `a`. This list can be modified using either the variable `a` or `c`."
   ]
  },
  {
   "cell_type": "code",
   "execution_count": null,
   "id": "67697f29",
   "metadata": {},
   "outputs": [],
   "source": []
  }
 ],
 "metadata": {
  "kernelspec": {
   "display_name": "Python 3 (ipykernel)",
   "language": "python",
   "name": "python3"
  },
  "language_info": {
   "codemirror_mode": {
    "name": "ipython",
    "version": 3
   },
   "file_extension": ".py",
   "mimetype": "text/x-python",
   "name": "python",
   "nbconvert_exporter": "python",
   "pygments_lexer": "ipython3",
   "version": "3.10.12"
  }
 },
 "nbformat": 4,
 "nbformat_minor": 5
}
