{
 "cells": [
  {
   "cell_type": "markdown",
   "id": "199b1a0e",
   "metadata": {},
   "source": [
    "# First program"
   ]
  },
  {
   "cell_type": "code",
   "execution_count": 1,
   "id": "539d68d9",
   "metadata": {},
   "outputs": [
    {
     "name": "stdout",
     "output_type": "stream",
     "text": [
      "0.5\n",
      "2.25\n",
      "1.5694444444444444\n",
      "1.4218903638151426\n",
      "1.4142342859400734\n",
      "1.4142135625249321\n",
      "1.414213562373095\n"
     ]
    }
   ],
   "source": [
    "# Square root of x, this line is a comment\n",
    "x = 2\n",
    "eps = 0.0000000001\n",
    "\n",
    "g = x/4\n",
    "\n",
    "while abs(g*g - x) > eps:\n",
    "    print(g)\n",
    "    g = (g+x/g)/2 # update of g\n",
    "    \n",
    "print(g)"
   ]
  },
  {
   "cell_type": "markdown",
   "id": "83ff3013",
   "metadata": {},
   "source": [
    "# Components of a programming language, a first look\n",
    "\n",
    "- Variables and assignment"
   ]
  },
  {
   "cell_type": "code",
   "execution_count": 2,
   "id": "d0047664",
   "metadata": {},
   "outputs": [],
   "source": [
    "x = 2\n",
    "eps = 0.0000000001"
   ]
  },
  {
   "cell_type": "markdown",
   "id": "f7153419",
   "metadata": {},
   "source": [
    "this binds the name or variable `x` to the object (data) `2`.\n",
    "\n",
    "- **Arithmetic operators**"
   ]
  },
  {
   "cell_type": "code",
   "execution_count": 3,
   "id": "e75c0fae",
   "metadata": {},
   "outputs": [],
   "source": [
    "g = x/4 # division... and assignment\n",
    "g*g - x   # multiplication and subtraction\n",
    "g = (g+x/g)/2 # addition and division... and assigment"
   ]
  },
  {
   "cell_type": "markdown",
   "id": "a5aae642",
   "metadata": {},
   "source": [
    "- `print` function"
   ]
  },
  {
   "cell_type": "code",
   "execution_count": 4,
   "id": "9afedc18",
   "metadata": {},
   "outputs": [
    {
     "name": "stdout",
     "output_type": "stream",
     "text": [
      "2.25\n"
     ]
    }
   ],
   "source": [
    "print(g)"
   ]
  },
  {
   "cell_type": "markdown",
   "id": "70816e65",
   "metadata": {},
   "source": [
    "- `abs` function: returns the absolute value"
   ]
  },
  {
   "cell_type": "code",
   "execution_count": 5,
   "id": "b9f501fb",
   "metadata": {},
   "outputs": [
    {
     "name": "stdout",
     "output_type": "stream",
     "text": [
      "9\n"
     ]
    }
   ],
   "source": [
    "print(abs(-9))"
   ]
  },
  {
   "cell_type": "markdown",
   "id": "618288c9",
   "metadata": {},
   "source": [
    "- **Relational operators**, the outcome is `True` or `False`"
   ]
  },
  {
   "cell_type": "code",
   "execution_count": 6,
   "id": "21afa018",
   "metadata": {},
   "outputs": [
    {
     "data": {
      "text/plain": [
       "True"
      ]
     },
     "execution_count": 6,
     "metadata": {},
     "output_type": "execute_result"
    }
   ],
   "source": [
    "abs(g*g - x) > eps"
   ]
  },
  {
   "cell_type": "markdown",
   "id": "aaeb7e1b",
   "metadata": {},
   "source": [
    "other relationals are `<`, `<=`, `>=`, `==` (equal), `!=` (not equal)\n",
    "\n",
    "\n",
    "- `while` loop and blocks\n",
    "\n",
    "Loops the block of instructions until the condition is `True`. The *block* is defined by the indentations: the sequence of lines with the same indentation (distance from the left margin) belong to the same block.\n",
    "\n",
    "\n",
    "```python\n",
    "while abs(g*g - x) > eps:\n",
    "    # the block starts here\n",
    "    print(g)\n",
    "    g = (g+x/g)/2\n",
    "    # the block ends here\n",
    "\n",
    "print(g)\n",
    "```\n",
    "\n",
    "- types: define the data and the operation over it."
   ]
  },
  {
   "cell_type": "code",
   "execution_count": 7,
   "id": "b549d6f7",
   "metadata": {},
   "outputs": [
    {
     "name": "stdout",
     "output_type": "stream",
     "text": [
      "<class 'float'>\n",
      "<class 'int'>\n",
      "<class 'bool'>\n",
      "<class 'str'>\n"
     ]
    }
   ],
   "source": [
    "print( type(eps) )\n",
    "print( type(4) )\n",
    "print( type(abs(g*g - x) > eps) )\n",
    "c = 'python'  # this is a string, a sequence of characters\n",
    "print( type(c) )"
   ]
  },
  {
   "cell_type": "markdown",
   "id": "c2e4f400",
   "metadata": {},
   "source": [
    "- **Boolean operators**\n",
    "\n",
    "Consider a new version of the square root program where\n",
    "\n",
    "```python\n",
    "eps = 0.00000000000000000000000000000000000001\n",
    "```\n",
    "\n",
    "This value of `eps` is so small that when fitted into the (fixed) space reserved by the hardware for the float, it becomes `0` and, consequentially\n",
    "\n",
    "```python\n",
    "abs(g*g - x) > eps\n",
    "```\n",
    "\n",
    "will be always `True` and the `while` loop will never end. In ordert to aboid this, we introduce an upper bound on the number of times that the program can run the loop. We need a counter and a new condition in the `while` statement."
   ]
  },
  {
   "cell_type": "code",
   "execution_count": 8,
   "id": "f15104d5",
   "metadata": {},
   "outputs": [
    {
     "name": "stdout",
     "output_type": "stream",
     "text": [
      "The square root of 2 is 1.414213562373095\n"
     ]
    }
   ],
   "source": [
    "x = 2\n",
    "eps = 0.00000000000000000000000000000000000001\n",
    "\n",
    "g = x/4\n",
    "counter = 0\n",
    "\n",
    "while abs(g*g - x) > eps and counter < 1000:  # when counter is 1000 the condition is False\n",
    "    counter += 1 #  the same of counter = counter + 1 \n",
    "    g = (g+x/g)/2\n",
    "    \n",
    "print('The square root of', x, 'is', g)"
   ]
  },
  {
   "cell_type": "markdown",
   "id": "5f3f9131",
   "metadata": {},
   "source": [
    "The `and` is a boolean operator that combines two conditions in a new condition that is valued as `True` if and only if both the conditions are `True`. Other boolean operators are `or` and `not`"
   ]
  },
  {
   "cell_type": "code",
   "execution_count": 9,
   "id": "7b8a2ec2",
   "metadata": {},
   "outputs": [
    {
     "name": "stdout",
     "output_type": "stream",
     "text": [
      "True True False\n"
     ]
    }
   ],
   "source": [
    "a, b, c, d = True, True, False, False\n",
    "\n",
    "print(a, b, c)"
   ]
  },
  {
   "cell_type": "markdown",
   "id": "45e4eb5d",
   "metadata": {},
   "source": [
    "`and`"
   ]
  },
  {
   "cell_type": "code",
   "execution_count": 10,
   "id": "caad1e71",
   "metadata": {},
   "outputs": [
    {
     "name": "stdout",
     "output_type": "stream",
     "text": [
      "False\n",
      "True\n"
     ]
    }
   ],
   "source": [
    "print(a and c)\n",
    "print(a and b)"
   ]
  },
  {
   "cell_type": "markdown",
   "id": "2c9afca1",
   "metadata": {},
   "source": [
    "`or` is `True` if at least one of its operands is `True`"
   ]
  },
  {
   "cell_type": "code",
   "execution_count": 11,
   "id": "04a9a600",
   "metadata": {},
   "outputs": [
    {
     "name": "stdout",
     "output_type": "stream",
     "text": [
      "True\n",
      "False\n"
     ]
    }
   ],
   "source": [
    "print(a or b)\n",
    "print(c or d)"
   ]
  },
  {
   "cell_type": "markdown",
   "id": "7e35d517",
   "metadata": {},
   "source": [
    "`not` reverses the value of its operand"
   ]
  },
  {
   "cell_type": "code",
   "execution_count": 12,
   "id": "2bdb2646",
   "metadata": {},
   "outputs": [
    {
     "name": "stdout",
     "output_type": "stream",
     "text": [
      "False\n",
      "True\n"
     ]
    }
   ],
   "source": [
    "print(not a)\n",
    "print(not c)"
   ]
  },
  {
   "cell_type": "markdown",
   "id": "5a85e657",
   "metadata": {},
   "source": [
    "# Strings\n",
    "\n",
    "- **Assignment**"
   ]
  },
  {
   "cell_type": "code",
   "execution_count": 13,
   "id": "4594db4f",
   "metadata": {},
   "outputs": [
    {
     "name": "stdout",
     "output_type": "stream",
     "text": [
      "python\n"
     ]
    }
   ],
   "source": [
    "a = 'python'\n",
    "print(a)"
   ]
  },
  {
   "cell_type": "markdown",
   "id": "e4985caf",
   "metadata": {},
   "source": [
    "- **Relational operators**"
   ]
  },
  {
   "cell_type": "code",
   "execution_count": 14,
   "id": "eecd46c6",
   "metadata": {},
   "outputs": [
    {
     "name": "stdout",
     "output_type": "stream",
     "text": [
      "False\n",
      "True\n",
      "True\n"
     ]
    }
   ],
   "source": [
    "print( a == 'Python')  # tests if two strings are equal\n",
    "print( a == 'python')\n",
    "print( a != 'Python')  # tests is two strings are different"
   ]
  },
  {
   "cell_type": "code",
   "execution_count": 15,
   "id": "ac7b52c8",
   "metadata": {},
   "outputs": [
    {
     "name": "stdout",
     "output_type": "stream",
     "text": [
      "True\n"
     ]
    }
   ],
   "source": [
    "print( 'python' > 'programming' )"
   ]
  },
  {
   "cell_type": "markdown",
   "id": "1c61f441",
   "metadata": {},
   "source": [
    "The previous test checks the lexicographic order. It respects the alphabetic order for letters and the numerical order for digit. In this case the result is `True` because in the first position in which the two strings differ, the character in the first string, `y`, follows in the alphabetic order the corresponding character in the second string, `r`."
   ]
  },
  {
   "cell_type": "code",
   "execution_count": 16,
   "id": "e0492c8b",
   "metadata": {},
   "outputs": [
    {
     "name": "stdout",
     "output_type": "stream",
     "text": [
      "True\n",
      "True\n",
      "True\n",
      "True\n"
     ]
    }
   ],
   "source": [
    "print('y' > 'r')\n",
    "print('A' < 'B')\n",
    "print('a' < 'b')\n",
    "print('0' < '6')"
   ]
  },
  {
   "cell_type": "markdown",
   "id": "1efec8be",
   "metadata": {},
   "source": [
    "Capital letters precede small letters and digits (numerical characters) precede capital letters."
   ]
  },
  {
   "cell_type": "code",
   "execution_count": 17,
   "id": "760a8336",
   "metadata": {},
   "outputs": [
    {
     "name": "stdout",
     "output_type": "stream",
     "text": [
      "True\n",
      "True\n"
     ]
    }
   ],
   "source": [
    "print('Z' < 'a')\n",
    "print('9' < 'A')"
   ]
  },
  {
   "cell_type": "markdown",
   "id": "667b8a14",
   "metadata": {},
   "source": [
    "Between the sequence of digits and capital letters and between capital letters and small letters there are other symbols."
   ]
  },
  {
   "cell_type": "code",
   "execution_count": 18,
   "id": "aa43c422",
   "metadata": {},
   "outputs": [
    {
     "name": "stdout",
     "output_type": "stream",
     "text": [
      "True\n",
      "True\n",
      "True\n",
      "True\n"
     ]
    }
   ],
   "source": [
    "print('Z' < '[')\n",
    "print('[' < 'a')\n",
    "print('9' < '<')\n",
    "print('<' < 'A')"
   ]
  },
  {
   "cell_type": "markdown",
   "id": "4c64e354",
   "metadata": {},
   "source": [
    "- **Operators**"
   ]
  },
  {
   "cell_type": "code",
   "execution_count": 19,
   "id": "306c314f",
   "metadata": {},
   "outputs": [
    {
     "name": "stdout",
     "output_type": "stream",
     "text": [
      "Pythonpython\n",
      "PythonPythonPython\n",
      "PythonPythonPython\n"
     ]
    }
   ],
   "source": [
    "a = 'Python'\n",
    "b = 'python'\n",
    "c = a+b # concatenation\n",
    "print(c)\n",
    "r0 = a*3\n",
    "print(r0) # repetition\n",
    "r1 = 3*a\n",
    "print(r1)"
   ]
  },
  {
   "cell_type": "markdown",
   "id": "d03f4d4c",
   "metadata": {},
   "source": [
    "```python\n",
    "a + 32   # WRONG!!! + not defined between number and string\n",
    "\n",
    "a * 1.5    # WRONG!!! * not defined between float and string\n",
    "```"
   ]
  },
  {
   "cell_type": "markdown",
   "id": "9879a022",
   "metadata": {},
   "source": [
    "### Solved exercises\n",
    "\n",
    "#### 1\n",
    "\n",
    "Write a program that draws a square of size nxn of # where n is an integer given in input. Example, if n is 4 the program must print\n",
    "\n",
    "```\n",
    "    ****\n",
    "    ****\n",
    "    ****\n",
    "    ****\n",
    "```"
   ]
  },
  {
   "cell_type": "code",
   "execution_count": 20,
   "id": "6e28b68c",
   "metadata": {},
   "outputs": [
    {
     "name": "stdout",
     "output_type": "stream",
     "text": [
      "******\n",
      "******\n",
      "******\n",
      "******\n",
      "******\n",
      "******\n"
     ]
    }
   ],
   "source": [
    "n = 6\n",
    "\n",
    "line = '*'*n\n",
    "\n",
    "# print line n times\n",
    "\n",
    "c = 0\n",
    "\n",
    "while c < n:\n",
    "    print(line)\n",
    "    c = c+1 # also c += 1"
   ]
  },
  {
   "cell_type": "markdown",
   "id": "b3531cad",
   "metadata": {},
   "source": [
    "#### 2\n",
    "\n",
    "Same as before but must be draw only the perimeter of the square. Assume `n >= 3`."
   ]
  },
  {
   "cell_type": "code",
   "execution_count": 21,
   "id": "4156154e",
   "metadata": {},
   "outputs": [
    {
     "name": "stdout",
     "output_type": "stream",
     "text": [
      "*****\n",
      "*   *\n",
      "*   *\n",
      "*   *\n",
      "*****\n"
     ]
    }
   ],
   "source": [
    "n = 5\n",
    "\n",
    "line_b = '*'*n\n",
    "line_m = '*' + ' '*(n-2) + '*'\n",
    "\n",
    "print(line_b)\n",
    "# print line_m n-2 times\n",
    "\n",
    "c = 0\n",
    "\n",
    "while c < n-2:\n",
    "    print(line_m)\n",
    "    c += 1\n",
    "\n",
    "print(line_b)"
   ]
  },
  {
   "cell_type": "markdown",
   "id": "d5362494",
   "metadata": {},
   "source": [
    "### Special characters\n",
    "\n",
    "`\\n` is a special characters which corresponds to the newline character"
   ]
  },
  {
   "cell_type": "code",
   "execution_count": 22,
   "id": "c2d3712b",
   "metadata": {},
   "outputs": [
    {
     "name": "stdout",
     "output_type": "stream",
     "text": [
      "\n",
      "\n",
      "\n",
      "\n"
     ]
    }
   ],
   "source": [
    "print('\\n'*3)"
   ]
  },
  {
   "cell_type": "markdown",
   "id": "7486e15d",
   "metadata": {},
   "source": [
    "The previous instraction prints `4` empy lines lines: `3` because the string `'\\n'*3` plus the new line added by `print()` function."
   ]
  },
  {
   "cell_type": "markdown",
   "id": "496fa201",
   "metadata": {},
   "source": [
    "### Indexing operator\n",
    "\n",
    "Access single characters in a string by their position"
   ]
  },
  {
   "cell_type": "code",
   "execution_count": 23,
   "id": "403907c1",
   "metadata": {},
   "outputs": [
    {
     "name": "stdout",
     "output_type": "stream",
     "text": [
      "p\n",
      "t\n"
     ]
    }
   ],
   "source": [
    "a = 'python'\n",
    "print( a[0] )  # the first character, index zero\n",
    "print( a[2] )"
   ]
  },
  {
   "cell_type": "markdown",
   "id": "b088c976",
   "metadata": {},
   "source": [
    "```python\n",
    "print(a[12]) # Error, a doesn't have position 12\n",
    "```\n",
    "\n",
    "The `len` function returns the length of the string (number of characters)."
   ]
  },
  {
   "cell_type": "code",
   "execution_count": 24,
   "id": "0bd3102e",
   "metadata": {},
   "outputs": [
    {
     "name": "stdout",
     "output_type": "stream",
     "text": [
      "6\n"
     ]
    }
   ],
   "source": [
    "n = len(a)\n",
    "print(n)"
   ]
  },
  {
   "cell_type": "markdown",
   "id": "fde84cea",
   "metadata": {},
   "source": [
    "The position of the last character of the string is"
   ]
  },
  {
   "cell_type": "code",
   "execution_count": 25,
   "id": "9db64215",
   "metadata": {},
   "outputs": [
    {
     "name": "stdout",
     "output_type": "stream",
     "text": [
      "n\n"
     ]
    }
   ],
   "source": [
    "print(a[len(a)-1])"
   ]
  },
  {
   "cell_type": "markdown",
   "id": "eac691e3",
   "metadata": {},
   "source": [
    "# Exercises\n",
    "\n",
    "**Exercise 1**: Write a program that print the input string a diagonally. Example: if a = 'python' the program must print\n",
    "\n",
    "```\n",
    "p\n",
    " y\n",
    "  t\n",
    "   h\n",
    "    o\n",
    "     n\n",
    "```"
   ]
  },
  {
   "cell_type": "code",
   "execution_count": 1,
   "id": "7daba8fa",
   "metadata": {},
   "outputs": [
    {
     "name": "stdout",
     "output_type": "stream",
     "text": [
      "\tp\n",
      "\t y\n",
      "\t  t\n",
      "\t   h\n",
      "\t    o\n",
      "\t     n\n"
     ]
    }
   ],
   "source": [
    "a = 'python'\n",
    "\n",
    "c = 0\n",
    "\n",
    "while c < len(a):\n",
    "    line = '\\t'+' '*(c)+a[c]  # '\\t' is the tab special character\n",
    "    print(line)\n",
    "    c += 1"
   ]
  },
  {
   "cell_type": "markdown",
   "id": "dda45562",
   "metadata": {},
   "source": [
    "`\\t` is a special character that is interpreted as the tab key. It puts a fixed number of spaces in the text.\n",
    "\n",
    "\n",
    "## `for` loop \n",
    "\n",
    "\n",
    "```python\n",
    "for var in a_string:\n",
    "    # do something with var\n",
    "```\n",
    "\n",
    "The *cycle variable* `var` will be bound to all characters of the str `a_string`"
   ]
  },
  {
   "cell_type": "code",
   "execution_count": 2,
   "id": "0d3b5e70",
   "metadata": {},
   "outputs": [
    {
     "name": "stdout",
     "output_type": "stream",
     "text": [
      "\tp\n",
      "\t y\n",
      "\t  t\n",
      "\t   h\n",
      "\t    o\n",
      "\t     n\n"
     ]
    }
   ],
   "source": [
    "spaces ='\\t' \n",
    "\n",
    "for x in a:\n",
    "    print(spaces+x)\n",
    "    spaces += ' ' # spaces = spaces + ' '"
   ]
  },
  {
   "cell_type": "markdown",
   "id": "1c469016",
   "metadata": {},
   "source": [
    "**Exercise**: Write a program the prints the number of capital letters inside an input string.\n",
    "\n",
    "*******************\n",
    "\n",
    "Solving this problem using only the Python knowledges gained so far is quite challenging. We know how to count the number of consecutive capital letters with an appropriate `while` loop. But in a string there can be more segments with capital letters and so the `while` loop should be repeated. This can be done by placing it inside another loop.   \n",
    "\n",
    "The inner loop will be something like this\n",
    "\n",
    "```python\n",
    "while is_a_capital: # condition to be translated into Python\n",
    "    caps += 1\n",
    "```\n",
    "\n",
    "Moreover, the previous loop must be followed by another one that skips the non-capital letters "
   ]
  },
  {
   "cell_type": "code",
   "execution_count": 3,
   "id": "93ffb98c",
   "metadata": {},
   "outputs": [
    {
     "name": "stdout",
     "output_type": "stream",
     "text": [
      "9\n"
     ]
    }
   ],
   "source": [
    "a = 'PROGraMMinG pyTHon'\n",
    "#a = 'QWERTY'\n",
    "\n",
    "caps = 0 # number of caps in the string\n",
    "i = 0\n",
    "\n",
    "while i < len(a):\n",
    "    while  i < len(a) and a[i] >= 'A' and a[i] <= 'Z': #counts the capitals\n",
    "        caps += 1\n",
    "        i += 1\n",
    "    while  i < len(a) and ( a[i] < 'A' or a[i] > 'Z'): # skips all the others\n",
    "        i += 1\n",
    "\n",
    "print(caps)"
   ]
  },
  {
   "cell_type": "markdown",
   "id": "c1b9787b",
   "metadata": {},
   "source": [
    "# The `if`  statement\n",
    "\n",
    "```python\n",
    "if a_condition:\n",
    "    # a block of code\n",
    "```\n",
    "Runs the block only if the condition is `True`.\n",
    "\n",
    "An example"
   ]
  },
  {
   "cell_type": "code",
   "execution_count": 4,
   "id": "bcc54cd6",
   "metadata": {},
   "outputs": [
    {
     "name": "stdout",
     "output_type": "stream",
     "text": [
      "8\n"
     ]
    }
   ],
   "source": [
    "a = 'PYthon ProGrammIngAAA'\n",
    "\n",
    "caps = 0\n",
    "\n",
    "for x in a:\n",
    "    if  x >= 'A' and x <= 'Z':\n",
    "        caps += 1\n",
    "        \n",
    "print(caps)"
   ]
  },
  {
   "cell_type": "markdown",
   "id": "1d3a0850",
   "metadata": {},
   "source": [
    "## `elif` and `else`\n",
    "\n",
    "```python\n",
    "if condition0:\n",
    "    # block0\n",
    "elif condition1:\n",
    "    # block1\n",
    "elif condition2:\n",
    "    # block2\n",
    "else:\n",
    "    # block_default\n",
    "```\n",
    "\n",
    "If `condition0` is `True` runs `block0`; if not it checks `condition1`, if this last condition is `True` runs `block1`, otherwise it does the same for `condition2`. If also the last condition is `False`, it runs the `block_default`:\n",
    "\n",
    "Example: write a program that takes in input a string `a` and prints two lines: in the first one prints `a`, in the second one prints a string that contains the symbol `*` below the digits in `a` and the symbol `^` below the arithmetic characters of `a`. For example, in the case `a = 'f(0)+g(1)=12+4+pi'`, the program must print\n",
    "\n",
    "```\n",
    "f(0)+g(1)=12+4+pi\n",
    "  * ^  *  **^*^\n",
    "```"
   ]
  },
  {
   "cell_type": "code",
   "execution_count": 5,
   "id": "8b4d3b3a",
   "metadata": {},
   "outputs": [
    {
     "name": "stdout",
     "output_type": "stream",
     "text": [
      "f(0)+g(1)=12+4+pi\n",
      "  * ^  *  **^*^  \n"
     ]
    }
   ],
   "source": [
    "a = 'f(0)+g(1)=12+4+pi'\n",
    "\n",
    "print(a)\n",
    "line = ''\n",
    "\n",
    "for x in a:\n",
    "    if x >= '0' and x <= '9':\n",
    "        line = line + '*' # line += '*'\n",
    "    elif x == '+' or x == '*' or x == '-' or x == '/':\n",
    "        line += '^'\n",
    "    else:\n",
    "        line += ' '\n",
    "        \n",
    "print(line)\n"
   ]
  },
  {
   "cell_type": "markdown",
   "id": "53681ff4",
   "metadata": {},
   "source": [
    "## The in statement\n",
    "\n",
    "If `a` and `b` are strings\n",
    "\n",
    "```python\n",
    "a in b\n",
    "```\n",
    "\n",
    "returns `True` if and only if `a` is a substring of `b`."
   ]
  },
  {
   "cell_type": "code",
   "execution_count": 6,
   "id": "b01ed0b3",
   "metadata": {},
   "outputs": [
    {
     "name": "stdout",
     "output_type": "stream",
     "text": [
      "True\n",
      "False\n",
      "True\n",
      "False\n"
     ]
    }
   ],
   "source": [
    "a = 'ae45.ds,,(f4)io'\n",
    "\n",
    "print('e' in a)\n",
    "print('z' in a)\n",
    "print('e4' in a)\n",
    "print('ee' in a)"
   ]
  },
  {
   "cell_type": "markdown",
   "id": "38ad33d9",
   "metadata": {},
   "source": [
    "an alternative solution for the previous problem"
   ]
  },
  {
   "cell_type": "code",
   "execution_count": 7,
   "id": "f98d86f4",
   "metadata": {},
   "outputs": [
    {
     "name": "stdout",
     "output_type": "stream",
     "text": [
      "f(0)+g(1)=12+4+pi\n",
      "  * ^  *  **^*^  \n"
     ]
    }
   ],
   "source": [
    "a = 'f(0)+g(1)=12+4+pi'\n",
    "print(a)\n",
    "line = ''\n",
    "\n",
    "for x in a:\n",
    "    if x >= '0' and x <= '9':\n",
    "        line = line + '*' # line += '*'\n",
    "    elif x in '+*/-':\n",
    "        line += '^'\n",
    "    else:\n",
    "        line += ' '\n",
    "        \n",
    "print(line)"
   ]
  },
  {
   "cell_type": "markdown",
   "id": "6632b944",
   "metadata": {},
   "source": [
    "## The `range` funcion\n",
    "\n",
    "`range(n)` creates a sequence of the first `n` consecutive integers starting from `0`. It can be used togheter with the `for` statement to repeat block for `n` times."
   ]
  },
  {
   "cell_type": "code",
   "execution_count": 8,
   "id": "cb23d2be",
   "metadata": {},
   "outputs": [
    {
     "name": "stdout",
     "output_type": "stream",
     "text": [
      "0\n",
      "1\n",
      "2\n",
      "3\n",
      "4\n",
      "5\n",
      "6\n",
      "7\n"
     ]
    }
   ],
   "source": [
    "for x in range(8):\n",
    "    print(x)"
   ]
  },
  {
   "cell_type": "markdown",
   "id": "7433c69c",
   "metadata": {},
   "source": [
    "Alternative solutions of the square problem."
   ]
  },
  {
   "cell_type": "code",
   "execution_count": 9,
   "id": "1c164b06",
   "metadata": {},
   "outputs": [
    {
     "name": "stdout",
     "output_type": "stream",
     "text": [
      "#####\n",
      "#####\n",
      "#####\n",
      "#####\n",
      "#####\n"
     ]
    }
   ],
   "source": [
    "n = 5\n",
    "\n",
    "line = '#'*n\n",
    "\n",
    "for c in range(n):\n",
    "    print(line)"
   ]
  },
  {
   "cell_type": "code",
   "execution_count": 10,
   "id": "ab2b7bf1",
   "metadata": {},
   "outputs": [
    {
     "name": "stdout",
     "output_type": "stream",
     "text": [
      "#########\n",
      "#       #\n",
      "#       #\n",
      "#       #\n",
      "#       #\n",
      "#       #\n",
      "#       #\n",
      "#       #\n",
      "#########\n"
     ]
    }
   ],
   "source": [
    "n = 9\n",
    "\n",
    "full_line = '#'*n\n",
    "\n",
    "print(full_line)\n",
    "\n",
    "inner_line = '#'+(n-2)*' '+'#'\n",
    "\n",
    "for c in range(n-2):\n",
    "    print(inner_line)\n",
    "\n",
    "print(full_line)"
   ]
  },
  {
   "cell_type": "markdown",
   "id": "af08d71d",
   "metadata": {},
   "source": [
    "## The `enumerate` funcion\n",
    "\n",
    "The function `enumerate(a)` takes in input a sequence `a` and produces the tuples `(pos, item)` for each item of the sequence; `pos` is the position of `item` in the sequence and starts from 0.\n",
    "\n",
    "Example"
   ]
  },
  {
   "cell_type": "code",
   "execution_count": 11,
   "id": "798c91b9",
   "metadata": {},
   "outputs": [
    {
     "name": "stdout",
     "output_type": "stream",
     "text": [
      "p\n",
      " y\n",
      "  t\n",
      "   h\n",
      "    o\n",
      "     n\n"
     ]
    }
   ],
   "source": [
    "a = 'python'\n",
    "\n",
    "'''\n",
    "p\n",
    " y\n",
    "  t\n",
    "   h\n",
    "    o\n",
    "     n\n",
    "'''\n",
    "\n",
    "for count, x in enumerate(a):\n",
    "    line = ' '*count+x\n",
    "    print(line)"
   ]
  },
  {
   "cell_type": "markdown",
   "id": "6e0f3ca8",
   "metadata": {},
   "source": [
    "## ASCII code and the `ord()` and `chr()` functions\n",
    "\n",
    "The function `ord(c)` returns the ASCII code of a character `c` (actually the *Unicode* encoding). The function `chr()` is the inverse. "
   ]
  },
  {
   "cell_type": "code",
   "execution_count": 12,
   "id": "2cd56a39",
   "metadata": {},
   "outputs": [
    {
     "name": "stdout",
     "output_type": "stream",
     "text": [
      "115\n",
      "18\n",
      "S\n"
     ]
    }
   ],
   "source": [
    "print(ord('s'))\n",
    "\n",
    "delta = ord('s') - ord('a')\n",
    "print(delta)\n",
    "\n",
    "ascii_of_S = ord('A') + delta\n",
    "\n",
    "print( chr(ascii_of_S) )"
   ]
  },
  {
   "cell_type": "markdown",
   "id": "879360b1",
   "metadata": {},
   "source": [
    "This code convert small letters in capital letters"
   ]
  },
  {
   "cell_type": "code",
   "execution_count": 13,
   "id": "cf294e7c",
   "metadata": {},
   "outputs": [
    {
     "name": "stdout",
     "output_type": "stream",
     "text": [
      "PROGRAMMING LANGUAGE\n"
     ]
    }
   ],
   "source": [
    "a = 'programming language'\n",
    "\n",
    "'''\n",
    "b = 'PROGRAMMING LANGUAGE'\n",
    "'''\n",
    "\n",
    "b = ''\n",
    "for x in a:\n",
    "    # check if x is a small letter\n",
    "    if x >= 'a' and x <= 'x':\n",
    "        # convert x in its capital version\n",
    "        delta = ord(x) - ord('a')\n",
    "        ascii_of_caps_x = ord('A') + delta\n",
    "        b += chr(ascii_of_caps_x)\n",
    "    else:\n",
    "        b += x\n",
    "\n",
    "print(b)"
   ]
  },
  {
   "cell_type": "markdown",
   "id": "367dfd2a",
   "metadata": {},
   "source": [
    "## 'Modify' strings\n",
    "\n",
    "Consider the problem of replacing a character in a given position of a string\n",
    "\n",
    "```python\n",
    "a = 'program'\n",
    "\n",
    "a[3] = ' ' wrong\n",
    "```\n",
    "\n",
    "**Strings are immutable!!**\n",
    "\n",
    "A workaround is to create a brand new string equal to `a` except in position `3`."
   ]
  },
  {
   "cell_type": "markdown",
   "id": "7db0ab16",
   "metadata": {},
   "source": [
    "## Slicing\n",
    "\n",
    "If `a` is a string and `i` and `j` are two indices such that `i < j` then\n",
    "\n",
    "```python\n",
    "a[i:j]\n",
    "```\n",
    "\n",
    "is a string containing characters in position from `i` to `j-1` of `a`. Some examples:"
   ]
  },
  {
   "cell_type": "code",
   "execution_count": 14,
   "id": "5d6ef8a6",
   "metadata": {},
   "outputs": [
    {
     "name": "stdout",
     "output_type": "stream",
     "text": [
      "23456\n",
      "0123456789\n",
      "23456789\n",
      "0123456\n"
     ]
    }
   ],
   "source": [
    "a = '0123456789'\n",
    "print(a[2:7])\n",
    "print(a[:])\n",
    "print(a[2:])\n",
    "print(a[:7])"
   ]
  },
  {
   "cell_type": "markdown",
   "id": "cda46913",
   "metadata": {},
   "source": [
    "## The `input()` function\n",
    "\n",
    "It pauses the program waiting for user type something, then the function returns the typed string and the program continues."
   ]
  },
  {
   "cell_type": "code",
   "execution_count": 15,
   "id": "b9264966",
   "metadata": {},
   "outputs": [
    {
     "name": "stdout",
     "output_type": "stream",
     "text": [
      "ererere\n",
      "ererere\n",
      "Type a string: e2232\n",
      "e2232\n"
     ]
    }
   ],
   "source": [
    "a = input()\n",
    "print(a)\n",
    "a = input('Type a string: ')\n",
    "print(a)"
   ]
  },
  {
   "cell_type": "markdown",
   "id": "7551acb4",
   "metadata": {},
   "source": [
    "## Exercise: boolean flag\n",
    "\n",
    "Write a program that prints the firt symbol in a string `a` that is also belongs to the string `b`."
   ]
  },
  {
   "cell_type": "code",
   "execution_count": 16,
   "id": "9810612e",
   "metadata": {},
   "outputs": [
    {
     "name": "stdout",
     "output_type": "stream",
     "text": [
      "Enter the first string wewewewe\n",
      "Enter the second string dsffs\n",
      "no intersections between wewewewe dsffs\n"
     ]
    }
   ],
   "source": [
    "a = input('Enter the first string ')\n",
    "b = input('Enter the second string ')\n",
    "\n",
    "# print the first character in a that is also in b, prints 'error' if a and\n",
    "# b are disjoined\n",
    "\n",
    "i = 0 # the position of the current character in a\n",
    "not_found = True\n",
    "while i < len(a) and not_found:\n",
    "    x = a[i]\n",
    "    if x in b:\n",
    "        print(x)\n",
    "        not_found = False\n",
    "    else:\n",
    "        i += 1\n",
    "\n",
    "if not_found:\n",
    "    print('no intersections between', a, b)"
   ]
  },
  {
   "cell_type": "markdown",
   "id": "a36d0263",
   "metadata": {},
   "source": [
    "The boolean variable `found` is used to *break* the cycle when the intersection is found."
   ]
  },
  {
   "cell_type": "markdown",
   "id": "71215a06",
   "metadata": {},
   "source": [
    "## The `break` statement\n",
    "\n",
    "It is used to break a loop (the inner one). We can solve the previous exercise as follow "
   ]
  },
  {
   "cell_type": "code",
   "execution_count": 17,
   "id": "00c5264b",
   "metadata": {},
   "outputs": [
    {
     "name": "stdout",
     "output_type": "stream",
     "text": [
      "o\n"
     ]
    }
   ],
   "source": [
    "a = 'computation'\n",
    "b = 'tor vergata univerity'\n",
    "\n",
    "# prints the firt symbol in that is also in b\n",
    "\n",
    "for x in a:\n",
    "    # check if x is in b\n",
    "    if x in b:\n",
    "        print(x)\n",
    "        break"
   ]
  },
  {
   "cell_type": "markdown",
   "id": "e5c7b33f",
   "metadata": {},
   "source": [
    "## Type conversion\n",
    "\n",
    "Consider the example"
   ]
  },
  {
   "cell_type": "code",
   "execution_count": 18,
   "id": "89d2d52a",
   "metadata": {},
   "outputs": [
    {
     "name": "stdout",
     "output_type": "stream",
     "text": [
      "Type an integer:12\n",
      "############\n",
      "############\n",
      "############\n",
      "############\n",
      "############\n",
      "############\n",
      "############\n",
      "############\n",
      "############\n",
      "############\n",
      "############\n",
      "############\n"
     ]
    }
   ],
   "source": [
    "n = input('Type an integer:')\n",
    "n = int(n)\n",
    "\n",
    "c = 0\n",
    "line = '#'*n\n",
    "\n",
    "while c < n:\n",
    "    print(line)\n",
    "    c += 1"
   ]
  },
  {
   "cell_type": "markdown",
   "id": "40964efe",
   "metadata": {},
   "source": [
    "Other examples"
   ]
  },
  {
   "cell_type": "code",
   "execution_count": 19,
   "id": "221acb6e",
   "metadata": {},
   "outputs": [
    {
     "name": "stdout",
     "output_type": "stream",
     "text": [
      "15\n",
      "3\n"
     ]
    }
   ],
   "source": [
    "x = float('3.1415')\n",
    "n = int('10')\n",
    "n0 = int(2.71)\n",
    "\n",
    "print(int(x+n+n0))\n",
    "\n",
    "# int('3.14') wrong, only strings of digits\n",
    "print( int(float('3.14'))  )"
   ]
  },
  {
   "cell_type": "code",
   "execution_count": null,
   "id": "5355554b",
   "metadata": {},
   "outputs": [],
   "source": []
  }
 ],
 "metadata": {
  "kernelspec": {
   "display_name": "Python 3 (ipykernel)",
   "language": "python",
   "name": "python3"
  },
  "language_info": {
   "codemirror_mode": {
    "name": "ipython",
    "version": 3
   },
   "file_extension": ".py",
   "mimetype": "text/x-python",
   "name": "python",
   "nbconvert_exporter": "python",
   "pygments_lexer": "ipython3",
   "version": "3.10.12"
  }
 },
 "nbformat": 4,
 "nbformat_minor": 5
}
