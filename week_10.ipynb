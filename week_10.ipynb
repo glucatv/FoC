{
 "cells": [
  {
   "cell_type": "markdown",
   "id": "ab53110f",
   "metadata": {},
   "source": [
    "# Dictionary\n",
    "\n",
    "A data structure whose items are pairs of `key:value`; `keys` are unique (form a set)."
   ]
  },
  {
   "cell_type": "code",
   "execution_count": 1,
   "id": "8c0a20ff",
   "metadata": {},
   "outputs": [
    {
     "name": "stdout",
     "output_type": "stream",
     "text": [
      "{'one': 1, '2': 'two', 3: '3', 2: 'two'}\n",
      "1 ('2', 'two') two\n"
     ]
    }
   ],
   "source": [
    "d0 = {}   #  an empty dictionary\n",
    "d1 = {'one':1, '2':'two', 3:'3', 2:'two'}  # a dictionary with 4 items\n",
    "print(d1)\n",
    "\n",
    "d1[4] = '****'  # ad a new item\n",
    "d1[3] = '4-1' # modifies the value of 3\n",
    "d1[2] = ('2', 'two') # modifies the value of 2\n",
    "\n",
    "print( d1['one'], d1[2], d1['2'] )\n",
    "\n",
    "# print(d1['five']) KeyError"
   ]
  },
  {
   "cell_type": "markdown",
   "id": "09ba2e68-0642-4ad3-816a-1d9e55fd0b8e",
   "metadata": {},
   "source": [
    "### Operations\n",
    "\n",
    "The `in` checks whether an object is a key of the dictionary. Its cost can be assumed constant."
   ]
  },
  {
   "cell_type": "code",
   "execution_count": 2,
   "id": "502debe0",
   "metadata": {},
   "outputs": [
    {
     "name": "stdout",
     "output_type": "stream",
     "text": [
      "True\n"
     ]
    }
   ],
   "source": [
    "print( 'one' in d1)"
   ]
  },
  {
   "cell_type": "markdown",
   "id": "9922017a",
   "metadata": {},
   "source": [
    "The 'indexing' returns the value corresponding to a given key. Its cost can be assumed constant."
   ]
  },
  {
   "cell_type": "code",
   "execution_count": 3,
   "id": "e18e81c1-7896-4f52-a70d-cf6b4ba814cb",
   "metadata": {},
   "outputs": [
    {
     "name": "stdout",
     "output_type": "stream",
     "text": [
      "('2', 'two')\n"
     ]
    }
   ],
   "source": [
    "print(d1[2])"
   ]
  },
  {
   "cell_type": "markdown",
   "id": "4c4f8c3f-9fdd-4e7f-be43-d16f3e6c8d67",
   "metadata": {},
   "source": [
    "The function `len` can be use to get the number of items (paris) in the dictionary. The methods `keys` and `values` return the list of the keys and of the values of the dictionary."
   ]
  },
  {
   "cell_type": "code",
   "execution_count": 4,
   "id": "c51a231c-5722-442e-9223-45c0301cfe52",
   "metadata": {},
   "outputs": [
    {
     "name": "stdout",
     "output_type": "stream",
     "text": [
      "5\n",
      "dict_keys(['one', '2', 3, 2, 4])\n",
      "dict_values([1, 'two', '4-1', ('2', 'two'), '****'])\n"
     ]
    }
   ],
   "source": [
    "print(len(d1))\n",
    "print(d1.keys())\n",
    "print(d1.values())"
   ]
  },
  {
   "cell_type": "markdown",
   "id": "2ec76c6c-09b3-49aa-9f3e-00dce81ec874",
   "metadata": {},
   "source": [
    "### Improving efficiency with dictionaries : the intersection problem\n",
    "\n",
    "If we put the items of the lists in two dictionaries, the `in` operation will require constant cost instead of linear cost."
   ]
  },
  {
   "cell_type": "code",
   "execution_count": 5,
   "id": "0e2686e0-7265-496b-91c9-ab847e80c15a",
   "metadata": {},
   "outputs": [
    {
     "name": "stdout",
     "output_type": "stream",
     "text": [
      "[9, 8, 3]\n"
     ]
    }
   ],
   "source": [
    "def intersection( a, b ):\n",
    "    '''\n",
    "    Parameters\n",
    "    ----------\n",
    "    a, b : lists of items\n",
    "\n",
    "    Returns\n",
    "    -------\n",
    "    a list c that contains the intersection of a and b (no repetitions!)\n",
    "\n",
    "    '''\n",
    "    \n",
    "    n, m = len(a), len(b) # O(1) time\n",
    "    c = [] #  the output, the intersection between a and b\n",
    "    \n",
    "    d_b = {}\n",
    "    for x in b: # O(m)\n",
    "        d_b[x] = None\n",
    "    d_a = {}\n",
    "    for x in a: # O(n)\n",
    "        d_a[x] = None\n",
    "    \n",
    "    for x in d_a: # for n times\n",
    "        if (x in d_b): # O(1)\n",
    "            c.append(x) # O(1)\n",
    "            \n",
    "    return c\n",
    "\n",
    "a = [4, 2, 9, 0, 2, 8, 3, 4]\n",
    "b = [3, 1, 9, 10, 7, 8, 3]\n",
    "\n",
    "c = intersection(a, b)\n",
    "print(c)"
   ]
  },
  {
   "cell_type": "markdown",
   "id": "8efa307e-432d-4e02-a3d8-a2cd5ea500b9",
   "metadata": {},
   "source": [
    "The time complexity is: `O(n+m)`\n",
    "The space complexity: `O(n+m)` because the size of `d_a` and `d_b`. The next version of the function takes in input two dictionaries the encode sets. In this case, it is more worthwhile to optimize the main loop."
   ]
  },
  {
   "cell_type": "code",
   "execution_count": 6,
   "id": "3139e583-c871-421c-bed4-ce5c05b4eac1",
   "metadata": {},
   "outputs": [],
   "source": [
    "def intersection(s0, s1):\n",
    "    '''\n",
    "    Input: s0, s1 are dictionaries tha implement sets.\n",
    "        The items of the set implemented by s0 are the keys\n",
    "        of s0\n",
    "        \n",
    "    Returns: the dictionary that describes the intersection set\n",
    "    '''\n",
    "    # n = len(s0), m = len(s1)\n",
    "    \n",
    "    s = {}   # O(1) in a.c. \n",
    "    \n",
    "    # this are two aliases\n",
    "    d0, d1 = (s0, s1) if min(len(s0), len(s1)) == len(s0) else (s1, s0)\n",
    "    \n",
    "    for x in d0: # for min(n, m)\n",
    "        if x in d1: #  O(1) in a.c.\n",
    "            s[x] = None # O(1) in a.c.\n",
    "              \n",
    "    return s\n",
    "\n",
    "    # Time complexity O( min(n, m) )"
   ]
  },
  {
   "cell_type": "markdown",
   "id": "30857f92-c1de-49ef-838d-1381115aeb80",
   "metadata": {},
   "source": [
    "Similarly, we can implement a `union` function."
   ]
  },
  {
   "cell_type": "code",
   "execution_count": 7,
   "id": "85f64514-8faf-44ac-9a3e-8465c49f0f00",
   "metadata": {},
   "outputs": [],
   "source": [
    "def union(s0, s1):\n",
    "    '''\n",
    "    Input: s0, s1 are dictionaries tha implement sets.\n",
    "        The items of the set implemented by s0 are the keys\n",
    "        of s0\n",
    "        \n",
    "    Returns: the dictionary that describes the union set\n",
    "    '''\n",
    "    u = {}\n",
    "    \n",
    "    # n, m = len(s0), len(s1)\n",
    "    \n",
    "    for x in s0:\n",
    "        u[x] = None\n",
    "    for x in s1:\n",
    "        u[x] = None\n",
    "        \n",
    "    # Time complexity is O(n+m) in a.c.\n",
    "    return u"
   ]
  },
  {
   "cell_type": "code",
   "execution_count": 8,
   "id": "5fb79cc2-07e4-49e3-bf09-b0586728a5fb",
   "metadata": {},
   "outputs": [
    {
     "name": "stdout",
     "output_type": "stream",
     "text": [
      "{'two': None, 'zero': None}\n",
      "{'one': None, 'two': None, 'zero': None, 'three': None, 'five': None, 'nine': None}\n"
     ]
    }
   ],
   "source": [
    "a = { 'one': None, 'two': None, 'zero': None, 'three':None }\n",
    "b = { 'five': None, 'two': None, 'zero': None, 'nine':None }\n",
    "\n",
    "print(intersection(a, b))\n",
    "print(union(a, b))"
   ]
  },
  {
   "cell_type": "markdown",
   "id": "ed094f1c",
   "metadata": {},
   "source": [
    "# Problem\n",
    "\n",
    "Given two list sorted in increasing order, merge the two list in a new sorted list."
   ]
  },
  {
   "cell_type": "code",
   "execution_count": 9,
   "id": "ba68f750",
   "metadata": {},
   "outputs": [],
   "source": [
    "a = [2, 5, 7, 10, 13, 13, 32]\n",
    "b = [0, 2, 4, 5, 10, 12, 21, 34, 50, 51, 90]\n",
    "\n",
    "c = sorted(a+b)"
   ]
  },
  {
   "cell_type": "markdown",
   "id": "76948350",
   "metadata": {},
   "source": [
    "Let `n` be the sum of the sizes of `a` and `b`. In the worst case the previous solution requires `O(n log n)` time. This solution do not use the hypotesis.\n",
    "\n",
    "A more efficient solution compares items of `a` and `b` from the smaller, it appends to the output list the minimum between the current items from `a` and `b`. Every time that the algorithm choose the minimum from a list, the current item in this list is updated with the next one.\n",
    "\n",
    "This part of the algorithm ends when one of the two list will be totally consumed. The algorithm ends by appending the remaining elements of the other list at the end of the output list.\n",
    "\n",
    "At each iteration it is consumed an item from `a` or from `b`. So, after `O(n)` steps the first part of the algorithm ends. The cost of the second part is also `O(n)` because we have at most `n` append operations."
   ]
  },
  {
   "cell_type": "code",
   "execution_count": 10,
   "id": "6b0a5317",
   "metadata": {},
   "outputs": [],
   "source": [
    "a = [3, 4, 6, 8, 9, 10,100,200]\n",
    "b = [1, 2, 4, 4, 7, 9, 10, 20, 22, 22, 25]\n",
    "\n",
    "c = []\n",
    "\n",
    "i, j = 0, 0\n",
    "na, nb = len(a), len(b)\n",
    "while i < na and j < nb:\n",
    "    if a[i] <= b[j]: # time compl O(1) for the block\n",
    "        c.append(a[i])\n",
    "        i += 1\n",
    "    else:\n",
    "        c.append(b[j])\n",
    "        j += 1\n",
    "\n",
    "if j < nb: # and so i == na\n",
    "    c.extend(b[j:])\n",
    "else: # i < na\n",
    "    c.extend(a[i:])"
   ]
  },
  {
   "cell_type": "markdown",
   "id": "ee100dc8",
   "metadata": {},
   "source": [
    "The `extend` method of lists extends appends to the list all the items from another list.\n",
    "\n",
    "The space complexity is constant because, except the input and output lists, no other data structures that grow as a function of `len(a)+len(b)` are used."
   ]
  },
  {
   "cell_type": "markdown",
   "id": "84ca33f4-3759-483d-8b2b-04c87134f6f8",
   "metadata": {},
   "source": [
    "# The merge sort algorithm\n",
    "\n",
    "Two sorted list can be merged in a new sorted list with the next *merge* algorithm.\n",
    "\n",
    "```python\n",
    "a = [3, 4, 6, 8, 9, 10,100,200]\n",
    "b = [1, 2, 4, 4, 7, 9, 10, 20, 22, 22, 25]\n",
    "\n",
    "c = []\n",
    "\n",
    "i, j = 0, 0\n",
    "na, nb = len(a), len(b)\n",
    "while i < na and j < nb:\n",
    "    if a[i] <= b[j]: # time compl O(1) for the block\n",
    "        c.append(a[i])\n",
    "        i += 1\n",
    "    else:\n",
    "        c.append(b[j])\n",
    "        j += 1\n",
    "\n",
    "if j < nb: # and so i == na\n",
    "    c.extend(b[j:])\n",
    "else: # i < na\n",
    "    c.extend(a[i:])\n",
    "```\n",
    "\n",
    "The time complexity `O( len(a)+len(b) )`. This is used to desing a efficient recursive sorting algorithm called **merge sort**.\n",
    "\n",
    "## The sorting algorithm\n",
    "\n",
    "Let `a` be a sequence of `n` items (numbers). We can consider two consecutive items as two sorted sequence of size one, so we can run the `merge` algorithm on these sequences. This procedure is applied on the `n/2` pairs of consecutive items. After this first step - named step 0 - the sequence contains `n/2` sorted lists of size 2. At step 1 are merged consecutive sequence of size 2: the result are `n/4` sorted sub-sequences of size 4. In a general step `h` we start from `n/(2**h)` sorted list of size `2**h`; the consecutive sublists are merged together obtaining `n/(2**(h+1))` sorted lists of size `2**(h+1)`. Doing this, at the last step `t`, we start from\n",
    "    \n",
    "    2 = n/(2**t)\n",
    "    \n",
    "sublists of size `n/2` that are merged in the final sorted list of size `n`. Observe that, from the equation above\n",
    "\n",
    "    2**(t+1) = n\n",
    "    \n",
    "that is, the number of steps are `O(log n)`.\n",
    "\n",
    "### Computational cost\n",
    "\n",
    "At step `h-1` are performed `n/(2**h)` merge operations on pairs of segments of size `2**h` per pair. The cost of a single merge is `O(2**h)`, then the cost of all merges at step `h` is `O(n)`. This is true for all the `O(log n)` steps, and it implies that the time complexity of the algorithm is `O(n log n)`.\n",
    "\n",
    "### Implementation\n",
    "\n",
    "We need a modified version of the `merge` function that works on two consecutive segments of the same list. It modifies the input list, so the contents of the working list `c` is copied in `a`."
   ]
  },
  {
   "cell_type": "code",
   "execution_count": 11,
   "id": "388bf799-c2ce-457f-ae40-7e83fb91c15d",
   "metadata": {},
   "outputs": [
    {
     "name": "stdout",
     "output_type": "stream",
     "text": [
      "[1, 2, 2, 2, 3, 3, 4, 5, 6, 6, 7, 7, 8, 9]\n"
     ]
    }
   ],
   "source": [
    "def merge(a, lx, cx, rx):\n",
    "    '''\n",
    "    Parameters\n",
    "    ----------\n",
    "    a : is a list of items that can be compared with <\n",
    "    lx, cx, rx : indexes of a lx < cx < rx\n",
    "    \n",
    "    a[lx:cx] is sorted\n",
    "    a[cx:rx] is sorted\n",
    "    \n",
    "    Returns: None\n",
    "    Modifies a: a[lx:rx] will be sorted\n",
    "    '''\n",
    "    c = [] \n",
    "    \n",
    "    i, j = lx, cx\n",
    "\n",
    "    while i < cx and j < rx:\n",
    "        if a[i] <= a[j]: \n",
    "            c.append(a[i])\n",
    "            i += 1\n",
    "        else:\n",
    "            c.append(a[j])\n",
    "            j += 1\n",
    "    \n",
    "    if j < rx: \n",
    "        c.extend(a[j:rx])\n",
    "    else: \n",
    "        c.extend(a[i:cx])\n",
    "        \n",
    "    for i in range(len(c)):\n",
    "        a[lx+i] = c[i]\n",
    "        \n",
    "    # time complexity O(rx-lx)\n",
    "    # space complexity O(rx-lx) because of c\n",
    "    \n",
    "def merge_sort(a, lx=0, rx=None):\n",
    "    '''\n",
    "    Parameters\n",
    "    ----------\n",
    "    a : is a list of items that can be compared with <\n",
    "    lx, rx : int\n",
    "\n",
    "    Returns\n",
    "    -------\n",
    "    None.\n",
    "\n",
    "    a[lx:rx] will be sorted\n",
    "    '''\n",
    "    if rx == None:\n",
    "        rx = len(a)\n",
    "    \n",
    "    if lx < rx-1:\n",
    "        cx = (lx+rx)//2\n",
    "        merge_sort(a, lx, cx)\n",
    "        merge_sort(a, cx, rx)\n",
    "        merge(a, lx, cx, rx)\n",
    "            \n",
    "\n",
    "a = [2, 4, 3, 2, 6, 7, 5, 6, 7, 8, 9,1, 2, 3]\n",
    "merge_sort(a)\n",
    "print(a)"
   ]
  },
  {
   "cell_type": "markdown",
   "id": "88f54a04-5f7f-47ce-9a26-a9c37a3cceaa",
   "metadata": {},
   "source": [
    "The space complexity is given by the memory used by the frames of the recursive calls in the stack plus the additional memory used in the function `merge`. The number of frames in the stack is `O(log n)`, one for each recursive level. The maximum amount of memory used by the `merge` function is `O(n)` so the space complexity is `O(n)`. "
   ]
  }
 ],
 "metadata": {
  "kernelspec": {
   "display_name": "Python 3 (ipykernel)",
   "language": "python",
   "name": "python3"
  },
  "language_info": {
   "codemirror_mode": {
    "name": "ipython",
    "version": 3
   },
   "file_extension": ".py",
   "mimetype": "text/x-python",
   "name": "python",
   "nbconvert_exporter": "python",
   "pygments_lexer": "ipython3",
   "version": "3.11.5"
  }
 },
 "nbformat": 4,
 "nbformat_minor": 5
}
