{
 "cells": [
  {
   "cell_type": "markdown",
   "id": "04e5f82c",
   "metadata": {},
   "source": [
    "# Exercises for the weekend - solutions\n",
    "\n",
    "**Exercise 1**: Write a function, named `sum_all`, that takes in input a sequence `a` (a list or a tuple) and outputs the sum of all numbers in `a` and in its subsequences. *Example*: with input `a = ( 4, 'python', [2, (1, 'str')], 9 )`, the function must return `16`.\n",
    "\n",
    "Like for the deep-cloning problem, the function must recursively explore all subsequences. For this reason it may be worth starting from the solution of this problem and then adapting it.\n",
    "\n",
    "\n",
    "```python\n",
    "def deep_clone( x ):\n",
    "    if type(x) == list:\n",
    "        b = []\n",
    "        for e in x:\n",
    "            b.append( deep_clone( e ) )\n",
    "        return b\n",
    "    else:\n",
    "        # x is a scalar, tuple, string\n",
    "        return x\n",
    "```\n",
    "\n",
    "In this case, `b` will be a number, so the `append` will becomes a sum."
   ]
  },
  {
   "cell_type": "code",
   "execution_count": 2,
   "id": "7330e56a",
   "metadata": {},
   "outputs": [
    {
     "name": "stdout",
     "output_type": "stream",
     "text": [
      "16\n"
     ]
    }
   ],
   "source": [
    "def sum_all( a ):\n",
    "    if type(a) in (list, tuple):\n",
    "        b = 0\n",
    "        for x in a:\n",
    "            b += sum_all( x )\n",
    "        return b\n",
    "    elif type(a) in (int, float):\n",
    "        return a\n",
    "    else:\n",
    "        return 0\n",
    "    \n",
    "a = ( 4, 'python', [2, (1, 'str')], 9 )\n",
    "print(sum_all(a))"
   ]
  },
  {
   "cell_type": "markdown",
   "id": "21e41dbc",
   "metadata": {},
   "source": [
    "**Exercise 2**: Modify the `all_strings_of_size` function so that it accepts as input, in addition to `n`, a list `s` of symbols and prints all the strings of length `n` that can be obtained with symbols in `s`.\n",
    "\n",
    "Thiw is the original function\n",
    "\n",
    "```python\n",
    "def all_strings_of_size(n):\n",
    "    def f(a, i):\n",
    "        '''\n",
    "        a[0],..., a[i-1] are already defined\n",
    "        fills a[i], a[i+1],... in all possible ways\n",
    "        '''\n",
    "        if i == len(a):\n",
    "            b = ''\n",
    "            for x in a:\n",
    "                b += x\n",
    "            print(b)\n",
    "        else: # i < len(a)\n",
    "            a[i] = '0'\n",
    "            # fills all position from i+1\n",
    "            f(a, i+1)                \n",
    "            a[i] = '1'\n",
    "            # fills all position from i+1\n",
    "            f(a, i+1)\n",
    "            \n",
    "    a = [None]*n\n",
    "    f(a, 0)\n",
    "```\n",
    "\n",
    "We have to modify the else branch: in this version the symbols are two (`0` and `1`) and hardcoded in the funcion; in this new version these will be `s[0]`, `s[1]`..."
   ]
  },
  {
   "cell_type": "code",
   "execution_count": 4,
   "id": "155ef2d4",
   "metadata": {},
   "outputs": [
    {
     "name": "stdout",
     "output_type": "stream",
     "text": [
      "+++\n",
      "++^\n",
      "+^+\n",
      "+^^\n",
      "^++\n",
      "^+^\n",
      "^^+\n",
      "^^^\n"
     ]
    }
   ],
   "source": [
    "def all_strings_of_size(n, s):\n",
    "    def f(a, i):\n",
    "        '''\n",
    "        a[0],..., a[i-1] are already defined\n",
    "        fills a[i], a[i+1],... in all possible ways\n",
    "        '''\n",
    "        if i == len(a):\n",
    "            b = ''\n",
    "            for x in a:\n",
    "                b += x\n",
    "            print(b)\n",
    "        else: # i < len(a)\n",
    "            for c in s:\n",
    "                a[i] = c\n",
    "                # fills all position from i+1\n",
    "                f(a, i+1)                \n",
    "            \n",
    "    a = [None]*n\n",
    "    f(a, 0)\n",
    "\n",
    "\n",
    "all_strings_of_size(3, '+^')\n"
   ]
  },
  {
   "cell_type": "code",
   "execution_count": 5,
   "id": "f5208eaa",
   "metadata": {},
   "outputs": [
    {
     "name": "stdout",
     "output_type": "stream",
     "text": [
      "aaa\n",
      "aab\n",
      "aac\n",
      "aba\n",
      "abb\n",
      "abc\n",
      "aca\n",
      "acb\n",
      "acc\n",
      "baa\n",
      "bab\n",
      "bac\n",
      "bba\n",
      "bbb\n",
      "bbc\n",
      "bca\n",
      "bcb\n",
      "bcc\n",
      "caa\n",
      "cab\n",
      "cac\n",
      "cba\n",
      "cbb\n",
      "cbc\n",
      "cca\n",
      "ccb\n",
      "ccc\n"
     ]
    }
   ],
   "source": [
    "def all_strings_of_size(n, s):\n",
    "    def f(a, i):\n",
    "        if i == len(a):\n",
    "            b = ''\n",
    "            for x in a:\n",
    "                b += x\n",
    "            print(b)\n",
    "        else: # i < len(a)\n",
    "            for x in s:\n",
    "                a[i] = x\n",
    "                f(a, i+1)\n",
    "            \n",
    "    a = [None]*n\n",
    "    f(a, 0)\n",
    "    \n",
    "all_strings_of_size(3, ['a', 'b', 'c'])"
   ]
  },
  {
   "cell_type": "markdown",
   "id": "228cd50f",
   "metadata": {},
   "source": [
    "**Exercise 3**: Write a function, named `power_set`, that takes in input a list `s` that contains a set of characters `I` and prints all possible subsets of `I`.\n",
    "\n",
    "We know how to list all the binary sequences of a given size (see the `all_strings_of_size` function). There is a one-to-one relation between all the binary sequences of size `a` and all the subsets of a set `s` of size `n`. Let `a` be one of this binary sequence, it describe a subset in `s` in the following way: `s[j]` if and only if `a[j] == 1`.\n",
    "\n",
    "This solution modifies the function `all_strings_of_size` in the basic case of the recursive function `f`: here the list `b` is 'translated' in a subset of `s` following the above considerations."
   ]
  },
  {
   "cell_type": "code",
   "execution_count": 6,
   "id": "2e9c3c61",
   "metadata": {},
   "outputs": [
    {
     "name": "stdout",
     "output_type": "stream",
     "text": [
      "[]\n",
      "[2]\n",
      "[1]\n",
      "[1, 2]\n",
      "[0]\n",
      "[0, 2]\n",
      "[0, 1]\n",
      "[0, 1, 2]\n"
     ]
    }
   ],
   "source": [
    "def power_set( s ):\n",
    "    '''\n",
    "    Parameters\n",
    "    ----------\n",
    "    s: a list that defines a set\n",
    "\n",
    "    Prints all the subset of s\n",
    "    '''\n",
    "    def f(a, i):\n",
    "        if i == len(a):\n",
    "            # translate a in a subset of s\n",
    "            b = []\n",
    "            for j in range(len(s)):\n",
    "                if a[j] == 1:\n",
    "                    b.append(s[j])\n",
    "            print(b)\n",
    "        else:\n",
    "            a[i] = 0\n",
    "            f(a, i+1)\n",
    "            a[i] = 1\n",
    "            f(a, i+1)\n",
    "        \n",
    "    a = [None]*len(s)\n",
    "    f(a, 0)\n",
    "    \n",
    "power_set([0,1,2])"
   ]
  },
  {
   "cell_type": "markdown",
   "id": "ae53e050",
   "metadata": {},
   "source": [
    "### Non-numeric sorting "
   ]
  },
  {
   "cell_type": "code",
   "execution_count": 16,
   "id": "76c70c6b",
   "metadata": {},
   "outputs": [
    {
     "name": "stdout",
     "output_type": "stream",
     "text": [
      "['five', 'four', 'one', 'three', 'two', 'zero']\n"
     ]
    }
   ],
   "source": [
    "b = ['zero', 'one', 'two', 'three', 'four', 'five']\n",
    "bubble_sort(b)\n",
    "print(b)"
   ]
  },
  {
   "cell_type": "markdown",
   "id": "21ac2ef6",
   "metadata": {},
   "source": [
    "The stringhs are sorted according to the lexiocographic order, that is according to the semantics of the `>` operator.\n",
    "\n",
    "Now consider a list of tuples"
   ]
  },
  {
   "cell_type": "code",
   "execution_count": 17,
   "id": "6a15908f",
   "metadata": {},
   "outputs": [
    {
     "name": "stdout",
     "output_type": "stream",
     "text": [
      "[(0, 1), (0, 2, 3), (1, 2)]\n"
     ]
    }
   ],
   "source": [
    "c = [ (1, 2), (0,1), (0, 2, 3) ]\n",
    "bubble_sort(c)\n",
    "print(c)"
   ]
  },
  {
   "cell_type": "markdown",
   "id": "a5e0a715",
   "metadata": {},
   "source": [
    "If `t0` and `t1` are two tuples, the value of `t0 > t1` is the value of `t0[i] > t1[i]` where `i` is the first position in which `t0[i] != t1[i]`. Similarly, the value of `t0 < t1` is the value of `t0[i] < t1[i]` where `i` is the first position in which `t0[i] != t1[i]`. If `t0` is prefix of `t1`, `t0 < t1`. Finally, `t0 == t1` if they are identical.\n",
    "\n",
    "For example"
   ]
  },
  {
   "cell_type": "code",
   "execution_count": 1,
   "id": "2939ec08",
   "metadata": {},
   "outputs": [
    {
     "name": "stdout",
     "output_type": "stream",
     "text": [
      "False\n",
      "True\n",
      "False\n",
      "True\n",
      "True\n",
      "False\n",
      "True\n"
     ]
    }
   ],
   "source": [
    "print(  (1, 0) < (0, 10, 0)   )\n",
    "\n",
    "print(   (0, 0) < (0, 10, 0)    )\n",
    "\n",
    "print(   (0, 10) > (0, 10, 0)    )\n",
    "\n",
    "print(   (0, 10) == (0, 10)    )\n",
    "\n",
    "print(   (0, 'one') < (0, 'zero')    )\n",
    "\n",
    "#print(   (0, 10) < (0, 'zero')    )   ERROR: requires comparing an int with a str\n",
    "\n",
    "print(   (1, 10) < (0, 'zero')    )\n",
    "\n",
    "a = [0, (0, 1)]\n",
    "b = [0, (0, 2)]\n",
    "\n",
    "print(a < b)"
   ]
  },
  {
   "cell_type": "markdown",
   "id": "7d63cbd1",
   "metadata": {},
   "source": [
    "If we want to sort the strings from shortest to longest, in the `if` we have to compare their lengths"
   ]
  },
  {
   "cell_type": "code",
   "execution_count": 20,
   "id": "c4780850",
   "metadata": {},
   "outputs": [
    {
     "name": "stdout",
     "output_type": "stream",
     "text": [
      "['one', 'two', 'zero', 'four', 'five', 'three']\n"
     ]
    }
   ],
   "source": [
    "def bubble_sort( a ):\n",
    "    n = len(a)\n",
    "    c = 0\n",
    "    \n",
    "    is_sorted = False\n",
    "    while not is_sorted:\n",
    "        is_sorted = True\n",
    "        for i in range(n-1-c):\n",
    "            if len(a[i]) > len(a[i+1]):\n",
    "                is_sorted = False\n",
    "                a[i], a[i+1] = a[i+1], a[i]\n",
    "        c += 1\n",
    "\n",
    "\n",
    "b = ['zero', 'one', 'two', 'three', 'four', 'five']\n",
    "bubble_sort(b)\n",
    "print(b)"
   ]
  },
  {
   "cell_type": "markdown",
   "id": "95934582",
   "metadata": {},
   "source": [
    "If we want to sort numbers ignoring their sign..."
   ]
  },
  {
   "cell_type": "code",
   "execution_count": 21,
   "id": "e9c1ead4",
   "metadata": {},
   "outputs": [
    {
     "name": "stdout",
     "output_type": "stream",
     "text": [
      "[0, -2, 4, -5, 6, -7, 8, 9]\n"
     ]
    }
   ],
   "source": [
    "def bubble_sort( a ):\n",
    "    n = len(a)\n",
    "    c = 0\n",
    "    \n",
    "    is_sorted = False\n",
    "    while not is_sorted:\n",
    "        is_sorted = True\n",
    "        for i in range(n-1-c):\n",
    "            if abs(a[i]) > abs(a[i+1]):\n",
    "                is_sorted = False\n",
    "                a[i], a[i+1] = a[i+1], a[i]\n",
    "        c += 1\n",
    "\n",
    "a = [0 , 9, -2, 8, 4, -5, 6, -7]\n",
    "bubble_sort(a)\n",
    "print(a)"
   ]
  },
  {
   "cell_type": "markdown",
   "id": "0ab9863a",
   "metadata": {},
   "source": [
    "In general if we want to sort the list according to another criterion we have use a different function in the `if` condition. This function can be part of the input."
   ]
  },
  {
   "cell_type": "code",
   "execution_count": 23,
   "id": "e4a3f6c4",
   "metadata": {},
   "outputs": [
    {
     "name": "stdout",
     "output_type": "stream",
     "text": [
      "[0, -2, 4, -5, 6, -7, 8, 9]\n",
      "['one', 'two', 'zero', 'four', 'five', 'three']\n",
      "[-7, -5, -2, 0, 4, 6, 8, 9]\n",
      "['five', 'four', 'one', 'three', 'two', 'zero']\n"
     ]
    }
   ],
   "source": [
    "def bubble_sort( a, key ):\n",
    "    n = len(a)\n",
    "    c = 0\n",
    "    \n",
    "    is_sorted = False\n",
    "    while not is_sorted:\n",
    "        is_sorted = True\n",
    "        for i in range(n-1-c):\n",
    "            if key(a[i]) > key(a[i+1]):\n",
    "                is_sorted = False\n",
    "                a[i], a[i+1] = a[i+1], a[i]\n",
    "        c += 1\n",
    "\n",
    "a = [0 , 9, -2, 8, 4, -5, 6, -7]\n",
    "b = ['zero', 'one', 'two', 'three', 'four', 'five']\n",
    "\n",
    "bubble_sort(a, abs)\n",
    "print(a)\n",
    "\n",
    "bubble_sort(b, len)\n",
    "print(b)\n",
    "\n",
    "bubble_sort(a, float)\n",
    "print(a)\n",
    "\n",
    "bubble_sort(b, str) \n",
    "print(b)"
   ]
  },
  {
   "cell_type": "markdown",
   "id": "c1341825",
   "metadata": {},
   "source": [
    "It is also important to guarantee the 'natural' ordering and that this is the default one"
   ]
  },
  {
   "cell_type": "code",
   "execution_count": 24,
   "id": "1181c007",
   "metadata": {},
   "outputs": [
    {
     "name": "stdout",
     "output_type": "stream",
     "text": [
      "[-7, -5, -2, 0, 4, 6, 8, 9]\n"
     ]
    }
   ],
   "source": [
    "def identity(x):\n",
    "    return x\n",
    "\n",
    "def bubble_sort( a, key=identity ):\n",
    "    n = len(a)\n",
    "    c = 0\n",
    "    \n",
    "    is_sorted = False\n",
    "    while not is_sorted:\n",
    "        is_sorted = True\n",
    "        for i in range(n-1-c):\n",
    "            if key(a[i]) > key(a[i+1]):\n",
    "                is_sorted = False\n",
    "                a[i], a[i+1] = a[i+1], a[i]\n",
    "        c += 1\n",
    "        \n",
    "        \n",
    "a = [0 , 9, -2, 8, 4, -5, 6, -7]\n",
    "\n",
    "bubble_sort(a)\n",
    "print(a)"
   ]
  },
  {
   "cell_type": "markdown",
   "id": "be50f8cc",
   "metadata": {},
   "source": [
    "In this way, by default, the sort function uses the original input values.\n",
    "\n",
    "The next version avoids having two separate functions, here function `identity` is local to `bubble_sort`."
   ]
  },
  {
   "cell_type": "code",
   "execution_count": 4,
   "id": "5c4ff383",
   "metadata": {},
   "outputs": [
    {
     "name": "stdout",
     "output_type": "stream",
     "text": [
      "[-7, -5, -2, 0, 4, 6, 8, 9]\n"
     ]
    }
   ],
   "source": [
    "def bubble_sort( a, key=None ):\n",
    "    def identity(x):\n",
    "        return x\n",
    "    n = len(a)\n",
    "    c = 0\n",
    "    \n",
    "    if key == None:\n",
    "        key = identity\n",
    "        \n",
    "    is_sorted = False\n",
    "    while not is_sorted:\n",
    "        is_sorted = True\n",
    "        for i in range(n-1-c):\n",
    "            if key(a[i]) > key(a[i+1]):\n",
    "                is_sorted = False\n",
    "                a[i], a[i+1] = a[i+1], a[i]\n",
    "        c += 1\n",
    "\n",
    "a = [0 , 9, -2, 8, 4, -5, 6, -7]\n",
    "\n",
    "bubble_sort(a)\n",
    "print(a)"
   ]
  },
  {
   "cell_type": "markdown",
   "id": "58302af2-2852-47f6-a33d-f9bc79445c2c",
   "metadata": {},
   "source": [
    "**Problem**: Given a list of numbers (`int` or `float`), write a program that sorts the numbers according to the number of zeros in them."
   ]
  },
  {
   "cell_type": "code",
   "execution_count": 4,
   "id": "c717869d-082e-4d79-ac50-4d7119f81823",
   "metadata": {},
   "outputs": [
    {
     "name": "stdout",
     "output_type": "stream",
     "text": [
      "[121, 10, 100, 0.0001]\n"
     ]
    }
   ],
   "source": [
    "a = [10, 121, 0.0001, 100]\n",
    "\n",
    "# sort a by the number of zeros (from smaller)\n",
    "\n",
    "def f(x):\n",
    "    '''\n",
    "    Parameter: x an int of float\n",
    "    Rerturns the number of zeros in x \n",
    "    '''\n",
    "    c = 0\n",
    "    for x in str(x):\n",
    "        if x == '0':\n",
    "            c += 1\n",
    "    return c\n",
    "\n",
    "bubble_sort(a, key=f)\n",
    "\n",
    "print(a)\n"
   ]
  },
  {
   "cell_type": "markdown",
   "id": "f28a9a51-1180-47f0-b482-819c6c6d8e50",
   "metadata": {},
   "source": [
    "**Problem**: The list `a` contains numbers and strings. By using the `bubble_sort` function, write a program the move the number on the left of `a` and the strings on the right."
   ]
  },
  {
   "cell_type": "code",
   "execution_count": 5,
   "id": "5a99d42d-bf6e-44dd-9563-bf1a811de541",
   "metadata": {},
   "outputs": [
    {
     "name": "stdout",
     "output_type": "stream",
     "text": [
      "[4, 0, -1.7, 'zero', 'ten', 'five']\n"
     ]
    }
   ],
   "source": [
    "a = [ 4, 'zero', 'ten', 0, -1.7, 'five' ]\n",
    "\n",
    "'''\n",
    "output\n",
    "a = [ 4, 0, -1.7, 'zero', 'ten', 'five' ]\n",
    "'''\n",
    "\n",
    "def f(x):\n",
    "    if type(x) in (int, float):\n",
    "        return 0\n",
    "    else:\n",
    "        return 1\n",
    "    \n",
    "bubble_sort(a, key=f)\n",
    "print(a)"
   ]
  },
  {
   "cell_type": "markdown",
   "id": "89db0e11-1975-4da2-a8ae-74ea681e3bc2",
   "metadata": {},
   "source": [
    "**Problem**: Like the previous one but the number must be sosrted from the smaller to the bigger and the strings in lexigographic order.\n",
    "\n",
    "*Solution*. The `key` function returns a tuple: its first element is the same of the previous version; the second is used in the case of comparing numbers with numbers or strings with strings. This second item is the item itself."
   ]
  },
  {
   "cell_type": "code",
   "execution_count": 6,
   "id": "05d83619-b400-492e-8ade-87a5363b37ed",
   "metadata": {},
   "outputs": [
    {
     "name": "stdout",
     "output_type": "stream",
     "text": [
      "[-1.7, 0, 4, 'five', 'ten', 'zero']\n"
     ]
    }
   ],
   "source": [
    "a = [ 4, 'zero', 'ten', 0, -1.7, 'five' ]\n",
    "\n",
    "'''\n",
    "output\n",
    "a = [ -1.7, 0, 4, 'five', 'ten', 'zero' ]\n",
    "'''\n",
    "\n",
    "def f(x):\n",
    "    if type(x) in (int, float):\n",
    "        return 0, x\n",
    "    else:\n",
    "        return 1, x\n",
    "    \n",
    "bubble_sort(a, key=f)\n",
    "print(a)"
   ]
  },
  {
   "cell_type": "markdown",
   "id": "1f212b9c-a287-4c55-ae5f-e86298ac69a9",
   "metadata": {},
   "source": [
    "### `lambda` functions\n",
    "\n",
    "They are inlne anonymous function that can be used on the fly."
   ]
  },
  {
   "cell_type": "code",
   "execution_count": 3,
   "id": "5d2341bb-93dc-44ae-af69-895206087bb1",
   "metadata": {},
   "outputs": [
    {
     "name": "stdout",
     "output_type": "stream",
     "text": [
      "3\n",
      "10\n"
     ]
    }
   ],
   "source": [
    "f = lambda x: x+1\n",
    "\n",
    "print(f(2))\n",
    "\n",
    "print( (lambda x: x)(10)    )"
   ]
  },
  {
   "cell_type": "markdown",
   "id": "7c754c08-ec3d-40de-9822-01e0d88dd7dd",
   "metadata": {},
   "source": [
    "The general syntax is\n",
    "\n",
    "```python\n",
    "lambda parameters : expression_of_parameters  \n",
    "```\n",
    "\n",
    "The identity function can be easily described by a `lambda` function"
   ]
  },
  {
   "cell_type": "code",
   "execution_count": 5,
   "id": "65ebb4b4-0194-4d6f-965e-9d63928e05aa",
   "metadata": {},
   "outputs": [
    {
     "name": "stdout",
     "output_type": "stream",
     "text": [
      "[(0, -9), (10, 0), (3, 1), (1, 3)]\n"
     ]
    }
   ],
   "source": [
    "a = [ (3, 1), (1, 3), (0, -9), (10, 0) ]\n",
    "\n",
    "# sorts according the second item of the tuple\n",
    "\n",
    "bubble_sort(a, key=lambda t: t[1])\n",
    "print(a)"
   ]
  },
  {
   "cell_type": "markdown",
   "id": "bed03bbc",
   "metadata": {},
   "source": [
    "# Computational cost\n",
    "\n",
    "Algorithms or programs must be correct and _efficient_, they have to optimize the used resources\n",
    "\n",
    "* time\n",
    "* memory\n",
    "* network traffic\n",
    "* ...\n",
    "\n",
    "We will consider _time_ and _memory_.\n",
    "\n",
    "We start with time. How long it takes to run the next function?"
   ]
  },
  {
   "cell_type": "code",
   "execution_count": 29,
   "id": "e7b7bad3",
   "metadata": {},
   "outputs": [
    {
     "name": "stdout",
     "output_type": "stream",
     "text": [
      "6\n"
     ]
    }
   ],
   "source": [
    "def sum_all( a ):\n",
    "    c = 0           # 1\n",
    "    for x in a:     # if n = len(a), repeated n times\n",
    "        c += x     # 2\n",
    "    return c       # 1\n",
    "\n",
    "print( sum_all( [1,2,3] ) )"
   ]
  },
  {
   "cell_type": "markdown",
   "id": "d218d998",
   "metadata": {},
   "source": [
    "One can run the program on some input and take the time but the result depends on:\n",
    "\n",
    "* the speed of the computer\n",
    "* the efficiency of the Python interpreter\n",
    "* other programs running in the computer that slow down our program\n",
    "* the input\n",
    "\n",
    "We introduce an abstraction that remove all the hardware and (external) software dependency. Instead of using nano-seconds we count the number of _elementary operation_ or **steps**. We assume that one step takes a unit of time. We consider elementary operations that involves *scalar types* (`int`, `float`, `bool`, `None`)\n",
    "\n",
    "* assignment\n",
    "* arithmetic, logic, relational operations that involve _scalars_\n",
    "* indexing\n",
    "* ...\n",
    "\n",
    "If `n` is the size of the list `a`, `sum_list(a)` takes\n",
    "\n",
    "    1 + 2n + 1 = 2n + 2\n",
    "    \n",
    "time. 1 for the line 5, `2n` is the cost of the `for` loop and the last 1 is the cost of the `return`.\n",
    "\n",
    "Additive constats can be removed because when `n` grows they are irrelevant. So, the function `sum_list` takes `2n` time.\n",
    "\n",
    "Multiplicative constants are important. If we have a solution `S1` whose cost is `5n` time and a solution `S2` whose cost is `2n` time, the first one takes 2.5 times of the time of the second one for complete. The second one is 2.5 times faster than the first one!\n",
    "\n",
    "We say that `S2` is a *fine* optimizzattion of `S1`. We are saving a constant factor of time with respect the first solution. But in the case `S1` takes `3n**2` time (means $3n^2$), `S2` is *asymptotically* faster that `S1`, in this case we can ignore also the multiplicative constants. The optimizzations of this second type are more important than the fine optimizations, for this reason from the computational cost are also removed the multiplicative constants. If we do so, in the time cost only remains the *order of magnitude* of the number of steps. From an expression like this\n",
    "\n",
    "    3n**2 + 5n + 9\n",
    "    \n",
    "since we ignore additive and multiplicative constants, it remains\n",
    "\n",
    "    n**2 + n\n",
    "    \n",
    "this last expression is between `n**2` and `2n**2`. Since we are ignoring multiplicative constats `n**2+n` can be considered equal to `n**2`. That is, from the original expression, it remains only the term of higher dimension. We conclude that the time cost of `S1` is **order** of `n**2`. In symbols `O(n**2)` (Big-O notation).\n",
    "\n",
    "Often we refer to the time cost as **time complexity** or, although more generic,  **computationa complexity**.\n",
    "\n",
    "Consider the example"
   ]
  },
  {
   "cell_type": "code",
   "execution_count": 29,
   "id": "f5b7d887",
   "metadata": {},
   "outputs": [
    {
     "name": "stdout",
     "output_type": "stream",
     "text": [
      "3\n"
     ]
    }
   ],
   "source": [
    "def find_item(a, k):\n",
    "    '''\n",
    "    Parameters\n",
    "    ----------\n",
    "    a : a list\n",
    "    k : an item\n",
    "    Returns\n",
    "    -------\n",
    "    i : int the position of the first k in a, None if\n",
    "        k is not in a\n",
    "    '''\n",
    "    for i, x in enumerate(a):\n",
    "        if x == k:\n",
    "            return i\n",
    "    return None\n",
    "    \n",
    "a = [3, 1, 3, 5, 3,  6, 9, 5]\n",
    "print(find_item(a, 5))"
   ]
  },
  {
   "cell_type": "markdown",
   "id": "e0bb7c51",
   "metadata": {},
   "source": [
    "In this case the number of steps depends on the value of `i` returned by the function. There are two extreme cases:\n",
    "\n",
    "* **Best case**. `pos` is zero, in this case the number of steps is constant (the test in line 9 and the return). In the big-O notation the constant is indicated with `O(1)`\n",
    "* **Worst case**. `pos` is -1, in this case the test in line 9 is repeated `len(a)` times so the number of steps is `O(n)`.\n",
    "\n",
    "There is also the **average case** that occurs when `pos` is more or less `n/2`. Even in this case the number of steps is `O(n)`.\n",
    "\n",
    "The most common measure uses the more pessimistic worst case analysis because provide an upped bound of the cost that covers all the cases.\n",
    "\n",
    "## The complexity of the bubble-sort algorithm\n",
    "\n",
    "Let us consider this version of the algorithm where the elements of the list are scalars. This implies that the comparison operation is elementary.\n",
    "\n",
    "```python\n",
    "def bubble_sort( a ):\n",
    "    n = len(a)\n",
    "    c = 0    \n",
    "    \n",
    "    is_sorted = False\n",
    "    while not is_sorted:\n",
    "        is_sorted = True\n",
    "        for i in range(n-1-c):\n",
    "            if a[i] > a[i+1]:\n",
    "                is_sorted = False\n",
    "                a[i], a[i+1] = a[i+1], a[i]\n",
    "        c += 1\n",
    "```\n",
    "\n",
    "The `for` loop is repeated at most `n` times, the cost of each operation is constat, so the cost of the `for` loop is `O(n)`. The `while` loop can be repeated at most (in the worst case), `n-1` times. This implies that the total cost, in the worst case is `O(n**2)`. There is also a best case, the one in which the `while` loop is executed only once. In this case the cost of the function is  `O(n)`.\n",
    "\n",
    "## The computational cost of operators between non-scalar types\n",
    "\n",
    "Let `a` be a list of `n` lists each of sizes `m`. What is the time complexity of the following operation?\n",
    "\n",
    "```python\n",
    "bubble_sort(a)\n",
    "```\n",
    "\n",
    "In the worst case the time complexity of\n",
    "\n",
    "```python\n",
    "a[i] > a[i+1]\n",
    "```\n",
    "\n",
    "is `O(m)` because it can require to compare all the items in `a[i]` with the items in the same positions of `a[i+1]`.\n",
    "\n",
    "Then, in this case, the time complexity of the bubble sort algorithm is `O(mn**2)`.\n",
    "\n",
    "------\n",
    "\n",
    "Let `a` be a list of `n` numbers, we are interested in the time complexity of the aliasing an cloning.\n",
    "\n",
    "```python\n",
    "b = a\n",
    "```\n",
    "\n",
    "It just introduces a new name for `a`, so its time complecity is `O(1)`.\n",
    "\n",
    "```python\n",
    "c = a[:]\n",
    "```\n",
    "\n",
    "This operation creates a copy of `a` and requires `n` copy operations of scalars (one for each item in `a`), so its complexity is `O(n)`.\n",
    "\n",
    "# Binary search algorithm\n",
    "\n",
    "Consider the problem of searching a key value `k` in a list `a` of sorted items. In case `k` is in `a` we need its position, otherwise `None`.\n",
    "\n",
    "*Observation*. In case `k != a[i]` for some position `i` we know that or `k` is not in the list, or `k` is on the left of `i`, or `k` is on the right of `i`. The next function consider a seaching interval described by two indices `lx <= rx`. For each iteration, if `k` is not in the middle of the interval, the search continues in one of the two halfs of the interval. The process ends when `k` is found or when the interval is empty."
   ]
  },
  {
   "cell_type": "code",
   "execution_count": 10,
   "id": "7e5c7cbc",
   "metadata": {},
   "outputs": [
    {
     "name": "stdout",
     "output_type": "stream",
     "text": [
      "a[ 6 ] =  8\n"
     ]
    }
   ],
   "source": [
    "a = [0, 0, 3, 3, 6, 8, 8, 10, 12, 16, 18, 18, 20]\n",
    "k = 8\n",
    "\n",
    "lx, rx = 0, len(a)\n",
    "\n",
    "# the current subsequence is a[lx:rx]\n",
    "\n",
    "while lx < rx:\n",
    "    cx = (lx+rx)//2\n",
    "    if k == a[cx]:\n",
    "        # return cx\n",
    "        print('a[',cx,'] = ', k)\n",
    "        break\n",
    "    elif k < a[cx]:\n",
    "        rx = cx\n",
    "    else: # k > a[cx]\n",
    "        lx = cx+1\n",
    "\n",
    "if lx >= rx:\n",
    "    print(k, 'not in ', a)"
   ]
  },
  {
   "cell_type": "markdown",
   "id": "0e6a5410",
   "metadata": {},
   "source": [
    "## Exercises for the weekend\n",
    "\n",
    "\n",
    "1. Consider a list `a` containing strings and numeric tuples like\n",
    "\n",
    "    ```\n",
    "    [ 'zero', (3, 9.5, 11), 'one', 'three', (5, 1, 3.14, 8), 'six' ]\n",
    "    ```\n",
    "\n",
    "    Solve the problem of sorting the list according to the following criteria:\n",
    "\n",
    "    - strings must precede tuples\n",
    "    - the strings must be sorted from longest to shortest \n",
    "    - the tuples must be sorted by increasing values of the sums of the numerical values they contain\n",
    "\n",
    "    for the example above the output should be\n",
    "\n",
    "    ```\n",
    "    [ 'three', 'zero', 'one', 'six', (5, 1, 3.14, 8), (3, 9.5, 11) ]\n",
    "    ```\n",
    "\n",
    "    or\n",
    "\n",
    "    ```\n",
    "    [ 'three', 'zero', 'six', 'one', (5, 1, 3.14, 8), (3, 9.5, 11) ]\n",
    "    ```\n",
    "    "
   ]
  },
  {
   "cell_type": "code",
   "execution_count": null,
   "id": "8c38ae69",
   "metadata": {},
   "outputs": [],
   "source": []
  }
 ],
 "metadata": {
  "kernelspec": {
   "display_name": "Python 3 (ipykernel)",
   "language": "python",
   "name": "python3"
  },
  "language_info": {
   "codemirror_mode": {
    "name": "ipython",
    "version": 3
   },
   "file_extension": ".py",
   "mimetype": "text/x-python",
   "name": "python",
   "nbconvert_exporter": "python",
   "pygments_lexer": "ipython3",
   "version": "3.10.12"
  }
 },
 "nbformat": 4,
 "nbformat_minor": 5
}
